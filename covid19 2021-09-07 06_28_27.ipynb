{
 "cells": [
  {
   "cell_type": "markdown",
   "metadata": {},
   "source": [
    "# COVID19 Analysis"
   ]
  },
  {
   "cell_type": "code",
   "execution_count": 50,
   "metadata": {},
   "outputs": [],
   "source": [
    "from sqlalchemy.engine import create_engine\n",
    "\n",
    "import pandas as pd, numpy as np, seaborn as sns, matplotlib.pyplot as plt, plotly.graph_objs as go\n",
    "from plotly.offline import download_plotlyjs, init_notebook_mode, plot, iplot\n",
    "import hvplot.pandas  \n",
    "%matplotlib inline\n",
    "#from sklearn.model_selection import train_test_split\n",
    "#from sklearn.linear_model import LinearRegression\n",
    "#from sklearn import metrics\n",
    "import sys\n",
    "import datetime"
   ]
  },
  {
   "cell_type": "markdown",
   "metadata": {},
   "source": [
    "## BigQuery with SQLAlchemy to Pandas Dataframe"
   ]
  },
  {
   "cell_type": "code",
   "execution_count": 51,
   "metadata": {},
   "outputs": [],
   "source": [
    "# Establish the engine\n",
    "\n",
    "bigquery_uri = 'bigquery://storied-port-224520/covid'\n",
    "\n",
    "engine = create_engine(\n",
    "    bigquery_uri,\n",
    "    credentials_path='/Users/heath/ssh/storied-port-224520-4013c7b6d6d9.json'\n",
    ")"
   ]
  },
  {
   "cell_type": "markdown",
   "metadata": {
    "pycharm": {
     "name": "#%%\n"
    }
   },
   "source": [
    "### Queries"
   ]
  },
  {
   "cell_type": "code",
   "execution_count": 52,
   "metadata": {},
   "outputs": [],
   "source": [
    "def dfall():\n",
    "    query = \"\"\"\n",
    "            SELECT\n",
    "                *\n",
    "            FROM\n",
    "              covid.wd\n",
    "            \"\"\"\n",
    "\n",
    "    rows = engine.execute(query).fetchall()\n",
    "    rows = [dict(row) for row in rows]\n",
    "\n",
    "    dfqall1 = pd.DataFrame(list(rows))\n",
    "    return dfqall1\n",
    "\n",
    "def DfNewTests():\n",
    "    query = \"\"\"\n",
    "            SELECT\n",
    "              wd.date AS date,\n",
    "              wd.location AS location,\n",
    "              SUM(wd.new_tests) AS sum_new_tests\n",
    "            FROM\n",
    "              covid.wd\n",
    "            GROUP BY\n",
    "              location,\n",
    "              date\n",
    "            \"\"\"\n",
    "\n",
    "    rows = engine.execute(query).fetchall()\n",
    "    rows = [dict(row) for row in rows]\n",
    "\n",
    "    df = pd.DataFrame(list(rows))\n",
    "    return df\n",
    "\n",
    "def DfNewCases():\n",
    "    query = \"\"\"\n",
    "            SELECT\n",
    "              wd.date AS date,\n",
    "              wd.location AS location,\n",
    "              SUM(wd.new_cases) AS sum_new_cases\n",
    "            FROM\n",
    "              covid.wd\n",
    "            GROUP BY\n",
    "              location,\n",
    "              date\n",
    "            \"\"\"\n",
    "#             WHERE\n",
    "#              ((DATETIME_TRUNC(CAST(wd.date AS DATETIME), DAY) > DATETIME_TRUNC(DATETIME('2021-05-01'), DAY)) AND (DATETIME_TRUNC(CAST(wd.date AS DATETIME), DAY) < DATETIME_TRUNC(DATETIME('2021-06-01'), DAY)))\n",
    "            \n",
    "    rows = engine.execute(query).fetchall()\n",
    "    rows = [dict(row) for row in rows]\n",
    "\n",
    "    df = pd.DataFrame(list(rows))\n",
    "    return df\n",
    "\n",
    "def DfnewTestsCases():\n",
    "    query = \"\"\"\n",
    "                SELECT\n",
    "                  wd.date AS date,\n",
    "                  wd.location AS location,\n",
    "                  SUM(wd.new_tests) AS sum_new_tests,\n",
    "                  SUM(wd.new_cases) AS sum_new_cases,\n",
    "                  SUM(wd.new_vaccinations) AS sum_new_vaccinations\n",
    "                FROM\n",
    "                  covid.wd\n",
    "                WHERE\n",
    "                  ((DATETIME_TRUNC(CAST(wd.date AS DATETIME), DAY) > DATETIME_TRUNC(DATETIME('2021-01-01'), DAY)) AND (DATETIME_TRUNC(CAST(wd.date AS DATETIME), DAY) < DATETIME_TRUNC(DATETIME('2021-05-31'), DAY)))\n",
    "                GROUP BY\n",
    "                  date,\n",
    "                  location\n",
    "            \"\"\"           \n",
    "\n",
    "    rows = engine.execute(query).fetchall()\n",
    "    rows = [dict(row) for row in rows]\n",
    "\n",
    "    df = pd.DataFrame(list(rows))\n",
    "    return df"
   ]
  },
  {
   "cell_type": "markdown",
   "metadata": {},
   "source": [
    "### Create DataFrames"
   ]
  },
  {
   "cell_type": "code",
   "execution_count": 53,
   "metadata": {},
   "outputs": [
    {
     "name": "stderr",
     "output_type": "stream",
     "text": [
      "/Users/heath/opt/anaconda3/lib/python3.8/site-packages/google/cloud/bigquery/client.py:512: UserWarning:\n",
      "\n",
      "Dependency google-cloud-bigquery-storage is outdated, please upgrade it to version >= 2.0.0 (version found: legacy).\n",
      "\n"
     ]
    },
    {
     "data": {
      "text/plain": "         date location  sum_new_tests  sum_new_cases  sum_new_vaccinations\n0  2021-01-02   Africa            NaN        22919.0                   NaN",
      "text/html": "<div>\n<style scoped>\n    .dataframe tbody tr th:only-of-type {\n        vertical-align: middle;\n    }\n\n    .dataframe tbody tr th {\n        vertical-align: top;\n    }\n\n    .dataframe thead th {\n        text-align: right;\n    }\n</style>\n<table border=\"1\" class=\"dataframe\">\n  <thead>\n    <tr style=\"text-align: right;\">\n      <th></th>\n      <th>date</th>\n      <th>location</th>\n      <th>sum_new_tests</th>\n      <th>sum_new_cases</th>\n      <th>sum_new_vaccinations</th>\n    </tr>\n  </thead>\n  <tbody>\n    <tr>\n      <th>0</th>\n      <td>2021-01-02</td>\n      <td>Africa</td>\n      <td>NaN</td>\n      <td>22919.0</td>\n      <td>NaN</td>\n    </tr>\n  </tbody>\n</table>\n</div>"
     },
     "execution_count": 53,
     "metadata": {},
     "output_type": "execute_result"
    }
   ],
   "source": [
    "dfnewtestscases = DfnewTestsCases()\n",
    "dfnewtestscases.head(1)\n"
   ]
  },
  {
   "cell_type": "code",
   "execution_count": 30,
   "metadata": {},
   "outputs": [],
   "source": [
    "#dfnewtests = DfNewTests()\n",
    "#dfnewtests.head(1)"
   ]
  },
  {
   "cell_type": "code",
   "execution_count": 31,
   "metadata": {},
   "outputs": [],
   "source": [
    "#dfnewcases = DfNewCases()\n",
    "#dfnewcases.head(1)"
   ]
  },
  {
   "cell_type": "code",
   "execution_count": 54,
   "metadata": {},
   "outputs": [],
   "source": [
    "usa = dfnewtestscases[dfnewtestscases['location'].str.contains('United States')].reset_index()\n",
    "usa_tc = usa.copy()"
   ]
  },
  {
   "cell_type": "code",
   "execution_count": 32,
   "metadata": {},
   "outputs": [],
   "source": []
  },
  {
   "cell_type": "markdown",
   "metadata": {},
   "source": [
    "## Data Statistics"
   ]
  },
  {
   "cell_type": "code",
   "execution_count": 55,
   "metadata": {},
   "outputs": [
    {
     "name": "stdout",
     "output_type": "stream",
     "text": [
      "<class 'pandas.core.frame.DataFrame'>\n",
      "RangeIndex: 32184 entries, 0 to 32183\n",
      "Data columns (total 5 columns):\n",
      " #   Column                Non-Null Count  Dtype  \n",
      "---  ------                --------------  -----  \n",
      " 0   date                  32184 non-null  object \n",
      " 1   location              32184 non-null  object \n",
      " 2   sum_new_tests         13986 non-null  float64\n",
      " 3   sum_new_cases         29793 non-null  float64\n",
      " 4   sum_new_vaccinations  10610 non-null  float64\n",
      "dtypes: float64(3), object(2)\n",
      "memory usage: 1.2+ MB\n"
     ]
    }
   ],
   "source": [
    "dfnewtestscases.info()"
   ]
  },
  {
   "cell_type": "code",
   "execution_count": 56,
   "metadata": {},
   "outputs": [
    {
     "data": {
      "text/plain": "Costa Rica          149\nNamibia             149\nArgentina           149\nPapua New Guinea    149\nIraq                149\nWorld               149\nMalaysia            149\nTaiwan              149\nPortugal            149\nAfghanistan         149\nItaly               149\nComoros             149\nBangladesh          149\nSouth Sudan         149\nFinland             149\nUnited Kingdom      149\nLatvia              149\nUnited States       149\nEswatini            149\nSouth Africa        149\nName: location, dtype: int64"
     },
     "execution_count": 56,
     "metadata": {},
     "output_type": "execute_result"
    }
   ],
   "source": [
    "dfnewtestscases['location'].value_counts().head(20)"
   ]
  },
  {
   "cell_type": "code",
   "execution_count": 57,
   "metadata": {},
   "outputs": [],
   "source": [
    "usa = dfnewtestscases[dfnewtestscases['location'].str.contains('United States')].reset_index()\n",
    "#usa_tests_org = dfnewtestscases[dfnewtestscases['location'].str.contains('United States')].reset_index()\n"
   ]
  },
  {
   "cell_type": "code",
   "execution_count": 58,
   "metadata": {},
   "outputs": [],
   "source": [
    "mx = dfnewtestscases[dfnewtestscases['location'].str.contains('Mexico')].reset_index()"
   ]
  },
  {
   "cell_type": "code",
   "execution_count": 37,
   "metadata": {},
   "outputs": [],
   "source": [
    "#mx['DateTime'] = (mx.Date) + ' ' + (mx.Time)\n"
   ]
  },
  {
   "cell_type": "code",
   "execution_count": 60,
   "metadata": {},
   "outputs": [
    {
     "data": {
      "text/plain": "   index        date location  sum_new_tests  sum_new_cases  \\\n0  29733  2021-01-02   Mexico        14875.0         6359.0   \n1  29734  2021-01-03   Mexico         9385.0         5211.0   \n2  29735  2021-01-04   Mexico        42832.0         6464.0   \n3  29736  2021-01-05   Mexico        43981.0        11271.0   \n4  29737  2021-01-06   Mexico        43374.0        13345.0   \n\n   sum_new_vaccinations  \n0                   NaN  \n1                   NaN  \n2                   NaN  \n3                4276.0  \n4                4949.0  ",
      "text/html": "<div>\n<style scoped>\n    .dataframe tbody tr th:only-of-type {\n        vertical-align: middle;\n    }\n\n    .dataframe tbody tr th {\n        vertical-align: top;\n    }\n\n    .dataframe thead th {\n        text-align: right;\n    }\n</style>\n<table border=\"1\" class=\"dataframe\">\n  <thead>\n    <tr style=\"text-align: right;\">\n      <th></th>\n      <th>index</th>\n      <th>date</th>\n      <th>location</th>\n      <th>sum_new_tests</th>\n      <th>sum_new_cases</th>\n      <th>sum_new_vaccinations</th>\n    </tr>\n  </thead>\n  <tbody>\n    <tr>\n      <th>0</th>\n      <td>29733</td>\n      <td>2021-01-02</td>\n      <td>Mexico</td>\n      <td>14875.0</td>\n      <td>6359.0</td>\n      <td>NaN</td>\n    </tr>\n    <tr>\n      <th>1</th>\n      <td>29734</td>\n      <td>2021-01-03</td>\n      <td>Mexico</td>\n      <td>9385.0</td>\n      <td>5211.0</td>\n      <td>NaN</td>\n    </tr>\n    <tr>\n      <th>2</th>\n      <td>29735</td>\n      <td>2021-01-04</td>\n      <td>Mexico</td>\n      <td>42832.0</td>\n      <td>6464.0</td>\n      <td>NaN</td>\n    </tr>\n    <tr>\n      <th>3</th>\n      <td>29736</td>\n      <td>2021-01-05</td>\n      <td>Mexico</td>\n      <td>43981.0</td>\n      <td>11271.0</td>\n      <td>4276.0</td>\n    </tr>\n    <tr>\n      <th>4</th>\n      <td>29737</td>\n      <td>2021-01-06</td>\n      <td>Mexico</td>\n      <td>43374.0</td>\n      <td>13345.0</td>\n      <td>4949.0</td>\n    </tr>\n  </tbody>\n</table>\n</div>"
     },
     "execution_count": 60,
     "metadata": {},
     "output_type": "execute_result"
    }
   ],
   "source": [
    "mx.head()"
   ]
  },
  {
   "cell_type": "code",
   "execution_count": 61,
   "metadata": {},
   "outputs": [
    {
     "name": "stdout",
     "output_type": "stream",
     "text": [
      "<class 'pandas.core.frame.DataFrame'>\n",
      "RangeIndex: 149 entries, 0 to 148\n",
      "Data columns (total 6 columns):\n",
      " #   Column                Non-Null Count  Dtype  \n",
      "---  ------                --------------  -----  \n",
      " 0   index                 149 non-null    int64  \n",
      " 1   date                  149 non-null    object \n",
      " 2   location              149 non-null    object \n",
      " 3   sum_new_tests         149 non-null    float64\n",
      " 4   sum_new_cases         149 non-null    float64\n",
      " 5   sum_new_vaccinations  129 non-null    float64\n",
      "dtypes: float64(3), int64(1), object(2)\n",
      "memory usage: 7.1+ KB\n"
     ]
    }
   ],
   "source": [
    "mx.info()"
   ]
  },
  {
   "cell_type": "markdown",
   "metadata": {},
   "source": [
    "## Data Prep"
   ]
  },
  {
   "cell_type": "code",
   "execution_count": 62,
   "metadata": {},
   "outputs": [],
   "source": [
    "# datetime conversion\n",
    "usa[[\"date\"]] = usa[[\"date\"]].astype('datetime64')"
   ]
  },
  {
   "cell_type": "code",
   "execution_count": 63,
   "metadata": {},
   "outputs": [],
   "source": [
    "# datetime conversion\n",
    "mx[[\"date\"]] = mx[[\"date\"]].astype('datetime64')"
   ]
  },
  {
   "cell_type": "code",
   "execution_count": 64,
   "metadata": {},
   "outputs": [],
   "source": [
    "usa['month'] = usa['date'].apply(lambda time: time.month)\n",
    "usa['day'] = usa['date'].apply(lambda time: time.dayofweek)\n",
    "usa['hour'] = usa['date'].apply(lambda time: time.hour)\n",
    "\n",
    "dmap = {0:'Mon',1:'Tue',2:'Wed',3:'Thu',4:'Fri',5:'Sat',6:'Sun'}\n",
    "mmap = {1:'Jan',2:'Feb',3:'Mar',4:'Apr',5:'May',6:'Jun',7:'Jul',8:'Aug',9:'Sep',10:'Oct',11:'Nov',12:'Dec'}\n",
    "usa['day'] = usa['day'].map(dmap)\n",
    "usa['month'] = usa['month'].map(mmap)"
   ]
  },
  {
   "cell_type": "code",
   "execution_count": 65,
   "metadata": {},
   "outputs": [],
   "source": [
    "mx['month'] = mx['date'].apply(lambda time: time.month)\n",
    "mx['day'] = mx['date'].apply(lambda time: time.dayofweek)\n",
    "mx['hour'] = mx['date'].apply(lambda time: time.hour)\n",
    "\n",
    "dmap = {0:'Mon',1:'Tue',2:'Wed',3:'Thu',4:'Fri',5:'Sat',6:'Sun'}\n",
    "mmap = {1:'Jan',2:'Feb',3:'Mar',4:'Apr',5:'May',6:'Jun',7:'Jul',8:'Aug',9:'Sep',10:'Oct',11:'Nov',12:'Dec'}\n",
    "mx['day'] = mx['day'].map(dmap)\n",
    "mx['month'] = mx['month'].map(mmap)"
   ]
  },
  {
   "cell_type": "code",
   "execution_count": 66,
   "metadata": {},
   "outputs": [
    {
     "data": {
      "text/plain": "   index       date location  sum_new_tests  sum_new_cases  \\\n0  29733 2021-01-02   Mexico        14875.0         6359.0   \n\n   sum_new_vaccinations month  day  hour  \n0                   NaN   Jan  Sat     0  ",
      "text/html": "<div>\n<style scoped>\n    .dataframe tbody tr th:only-of-type {\n        vertical-align: middle;\n    }\n\n    .dataframe tbody tr th {\n        vertical-align: top;\n    }\n\n    .dataframe thead th {\n        text-align: right;\n    }\n</style>\n<table border=\"1\" class=\"dataframe\">\n  <thead>\n    <tr style=\"text-align: right;\">\n      <th></th>\n      <th>index</th>\n      <th>date</th>\n      <th>location</th>\n      <th>sum_new_tests</th>\n      <th>sum_new_cases</th>\n      <th>sum_new_vaccinations</th>\n      <th>month</th>\n      <th>day</th>\n      <th>hour</th>\n    </tr>\n  </thead>\n  <tbody>\n    <tr>\n      <th>0</th>\n      <td>29733</td>\n      <td>2021-01-02</td>\n      <td>Mexico</td>\n      <td>14875.0</td>\n      <td>6359.0</td>\n      <td>NaN</td>\n      <td>Jan</td>\n      <td>Sat</td>\n      <td>0</td>\n    </tr>\n  </tbody>\n</table>\n</div>"
     },
     "execution_count": 66,
     "metadata": {},
     "output_type": "execute_result"
    }
   ],
   "source": [
    "mx.head(1)"
   ]
  },
  {
   "cell_type": "code",
   "execution_count": 45,
   "metadata": {},
   "outputs": [],
   "source": [
    "#usa.info()"
   ]
  },
  {
   "cell_type": "code",
   "execution_count": 67,
   "metadata": {},
   "outputs": [
    {
     "data": {
      "text/plain": "   sum_new_tests  sum_new_cases  sum_new_vaccinations\n0      1108645.0       300462.0                   NaN\n1      1041804.0       208853.0                   NaN\n2      1393390.0       184005.0                   NaN\n3      1953397.0       235042.0              273209.0\n4      2319417.0       255637.0              470328.0",
      "text/html": "<div>\n<style scoped>\n    .dataframe tbody tr th:only-of-type {\n        vertical-align: middle;\n    }\n\n    .dataframe tbody tr th {\n        vertical-align: top;\n    }\n\n    .dataframe thead th {\n        text-align: right;\n    }\n</style>\n<table border=\"1\" class=\"dataframe\">\n  <thead>\n    <tr style=\"text-align: right;\">\n      <th></th>\n      <th>sum_new_tests</th>\n      <th>sum_new_cases</th>\n      <th>sum_new_vaccinations</th>\n    </tr>\n  </thead>\n  <tbody>\n    <tr>\n      <th>0</th>\n      <td>1108645.0</td>\n      <td>300462.0</td>\n      <td>NaN</td>\n    </tr>\n    <tr>\n      <th>1</th>\n      <td>1041804.0</td>\n      <td>208853.0</td>\n      <td>NaN</td>\n    </tr>\n    <tr>\n      <th>2</th>\n      <td>1393390.0</td>\n      <td>184005.0</td>\n      <td>NaN</td>\n    </tr>\n    <tr>\n      <th>3</th>\n      <td>1953397.0</td>\n      <td>235042.0</td>\n      <td>273209.0</td>\n    </tr>\n    <tr>\n      <th>4</th>\n      <td>2319417.0</td>\n      <td>255637.0</td>\n      <td>470328.0</td>\n    </tr>\n  </tbody>\n</table>\n</div>"
     },
     "execution_count": 67,
     "metadata": {},
     "output_type": "execute_result"
    }
   ],
   "source": [
    "usa_tc.drop(columns=['date', 'index', 'location'], inplace=True)\n",
    "usa_tc.head()"
   ]
  },
  {
   "cell_type": "code",
   "execution_count": 47,
   "metadata": {},
   "outputs": [],
   "source": [
    "\n",
    "#mx_tc.head()"
   ]
  },
  {
   "cell_type": "code",
   "execution_count": 48,
   "metadata": {},
   "outputs": [],
   "source": [
    "#mx_tc.isna().sum()"
   ]
  },
  {
   "cell_type": "code",
   "execution_count": 48,
   "metadata": {},
   "outputs": [],
   "source": []
  },
  {
   "cell_type": "code",
   "execution_count": 48,
   "metadata": {},
   "outputs": [],
   "source": []
  },
  {
   "cell_type": "markdown",
   "metadata": {},
   "source": [
    "# Data Analysis"
   ]
  },
  {
   "cell_type": "markdown",
   "metadata": {},
   "source": [
    "### 4 Day Moving Average"
   ]
  },
  {
   "cell_type": "code",
   "execution_count": 68,
   "metadata": {},
   "outputs": [
    {
     "ename": "ValueError",
     "evalue": "Wrong number of items passed 2, placement implies 1",
     "output_type": "error",
     "traceback": [
      "\u001B[0;31m---------------------------------------------------------------------------\u001B[0m",
      "\u001B[0;31mKeyError\u001B[0m                                  Traceback (most recent call last)",
      "\u001B[0;32m~/opt/anaconda3/lib/python3.8/site-packages/pandas/core/indexes/base.py\u001B[0m in \u001B[0;36mget_loc\u001B[0;34m(self, key, method, tolerance)\u001B[0m\n\u001B[1;32m   3079\u001B[0m             \u001B[0;32mtry\u001B[0m\u001B[0;34m:\u001B[0m\u001B[0;34m\u001B[0m\u001B[0;34m\u001B[0m\u001B[0m\n\u001B[0;32m-> 3080\u001B[0;31m                 \u001B[0;32mreturn\u001B[0m \u001B[0mself\u001B[0m\u001B[0;34m.\u001B[0m\u001B[0m_engine\u001B[0m\u001B[0;34m.\u001B[0m\u001B[0mget_loc\u001B[0m\u001B[0;34m(\u001B[0m\u001B[0mcasted_key\u001B[0m\u001B[0;34m)\u001B[0m\u001B[0;34m\u001B[0m\u001B[0;34m\u001B[0m\u001B[0m\n\u001B[0m\u001B[1;32m   3081\u001B[0m             \u001B[0;32mexcept\u001B[0m \u001B[0mKeyError\u001B[0m \u001B[0;32mas\u001B[0m \u001B[0merr\u001B[0m\u001B[0;34m:\u001B[0m\u001B[0;34m\u001B[0m\u001B[0;34m\u001B[0m\u001B[0m\n",
      "\u001B[0;32mpandas/_libs/index.pyx\u001B[0m in \u001B[0;36mpandas._libs.index.IndexEngine.get_loc\u001B[0;34m()\u001B[0m\n",
      "\u001B[0;32mpandas/_libs/index.pyx\u001B[0m in \u001B[0;36mpandas._libs.index.IndexEngine.get_loc\u001B[0;34m()\u001B[0m\n",
      "\u001B[0;32mpandas/_libs/hashtable_class_helper.pxi\u001B[0m in \u001B[0;36mpandas._libs.hashtable.PyObjectHashTable.get_item\u001B[0;34m()\u001B[0m\n",
      "\u001B[0;32mpandas/_libs/hashtable_class_helper.pxi\u001B[0m in \u001B[0;36mpandas._libs.hashtable.PyObjectHashTable.get_item\u001B[0;34m()\u001B[0m\n",
      "\u001B[0;31mKeyError\u001B[0m: 'CMA_4'",
      "\nThe above exception was the direct cause of the following exception:\n",
      "\u001B[0;31mKeyError\u001B[0m                                  Traceback (most recent call last)",
      "\u001B[0;32m~/opt/anaconda3/lib/python3.8/site-packages/pandas/core/generic.py\u001B[0m in \u001B[0;36m_set_item\u001B[0;34m(self, key, value)\u001B[0m\n\u001B[1;32m   3825\u001B[0m         \u001B[0;32mtry\u001B[0m\u001B[0;34m:\u001B[0m\u001B[0;34m\u001B[0m\u001B[0;34m\u001B[0m\u001B[0m\n\u001B[0;32m-> 3826\u001B[0;31m             \u001B[0mloc\u001B[0m \u001B[0;34m=\u001B[0m \u001B[0mself\u001B[0m\u001B[0;34m.\u001B[0m\u001B[0m_info_axis\u001B[0m\u001B[0;34m.\u001B[0m\u001B[0mget_loc\u001B[0m\u001B[0;34m(\u001B[0m\u001B[0mkey\u001B[0m\u001B[0;34m)\u001B[0m\u001B[0;34m\u001B[0m\u001B[0;34m\u001B[0m\u001B[0m\n\u001B[0m\u001B[1;32m   3827\u001B[0m         \u001B[0;32mexcept\u001B[0m \u001B[0mKeyError\u001B[0m\u001B[0;34m:\u001B[0m\u001B[0;34m\u001B[0m\u001B[0;34m\u001B[0m\u001B[0m\n",
      "\u001B[0;32m~/opt/anaconda3/lib/python3.8/site-packages/pandas/core/indexes/base.py\u001B[0m in \u001B[0;36mget_loc\u001B[0;34m(self, key, method, tolerance)\u001B[0m\n\u001B[1;32m   3081\u001B[0m             \u001B[0;32mexcept\u001B[0m \u001B[0mKeyError\u001B[0m \u001B[0;32mas\u001B[0m \u001B[0merr\u001B[0m\u001B[0;34m:\u001B[0m\u001B[0;34m\u001B[0m\u001B[0;34m\u001B[0m\u001B[0m\n\u001B[0;32m-> 3082\u001B[0;31m                 \u001B[0;32mraise\u001B[0m \u001B[0mKeyError\u001B[0m\u001B[0;34m(\u001B[0m\u001B[0mkey\u001B[0m\u001B[0;34m)\u001B[0m \u001B[0;32mfrom\u001B[0m \u001B[0merr\u001B[0m\u001B[0;34m\u001B[0m\u001B[0;34m\u001B[0m\u001B[0m\n\u001B[0m\u001B[1;32m   3083\u001B[0m \u001B[0;34m\u001B[0m\u001B[0m\n",
      "\u001B[0;31mKeyError\u001B[0m: 'CMA_4'",
      "\nDuring handling of the above exception, another exception occurred:\n",
      "\u001B[0;31mValueError\u001B[0m                                Traceback (most recent call last)",
      "\u001B[0;32m<ipython-input-68-9dffe28fac7e>\u001B[0m in \u001B[0;36m<module>\u001B[0;34m\u001B[0m\n\u001B[1;32m      2\u001B[0m \u001B[0mmx_tc\u001B[0m\u001B[0;34m.\u001B[0m\u001B[0mdrop\u001B[0m\u001B[0;34m(\u001B[0m\u001B[0mcolumns\u001B[0m\u001B[0;34m=\u001B[0m\u001B[0;34m[\u001B[0m\u001B[0;34m'location'\u001B[0m\u001B[0;34m,\u001B[0m \u001B[0;34m'sum_new_tests'\u001B[0m\u001B[0;34m,\u001B[0m \u001B[0;34m'sum_new_vaccinations'\u001B[0m\u001B[0;34m,\u001B[0m \u001B[0;34m'index'\u001B[0m\u001B[0;34m]\u001B[0m\u001B[0;34m,\u001B[0m \u001B[0minplace\u001B[0m\u001B[0;34m=\u001B[0m\u001B[0;32mTrue\u001B[0m\u001B[0;34m)\u001B[0m\u001B[0;34m\u001B[0m\u001B[0;34m\u001B[0m\u001B[0m\n\u001B[1;32m      3\u001B[0m \u001B[0mmx_tc\u001B[0m\u001B[0;34m.\u001B[0m\u001B[0mindex\u001B[0m \u001B[0;34m=\u001B[0m \u001B[0mmx_tc\u001B[0m\u001B[0;34m.\u001B[0m\u001B[0mdate\u001B[0m\u001B[0;34m\u001B[0m\u001B[0;34m\u001B[0m\u001B[0m\n\u001B[0;32m----> 4\u001B[0;31m \u001B[0mmx_tc\u001B[0m\u001B[0;34m[\u001B[0m\u001B[0;34m'CMA_4'\u001B[0m\u001B[0;34m]\u001B[0m \u001B[0;34m=\u001B[0m \u001B[0mmx_tc\u001B[0m\u001B[0;34m.\u001B[0m\u001B[0mexpanding\u001B[0m\u001B[0;34m(\u001B[0m\u001B[0mmin_periods\u001B[0m\u001B[0;34m=\u001B[0m\u001B[0;36m4\u001B[0m\u001B[0;34m)\u001B[0m\u001B[0;34m.\u001B[0m\u001B[0mmean\u001B[0m\u001B[0;34m(\u001B[0m\u001B[0;34m)\u001B[0m\u001B[0;34m\u001B[0m\u001B[0;34m\u001B[0m\u001B[0m\n\u001B[0m\u001B[1;32m      5\u001B[0m \u001B[0;34m\u001B[0m\u001B[0m\n\u001B[1;32m      6\u001B[0m \u001B[0mplt\u001B[0m\u001B[0;34m.\u001B[0m\u001B[0mfigure\u001B[0m\u001B[0;34m(\u001B[0m\u001B[0mfigsize\u001B[0m\u001B[0;34m=\u001B[0m\u001B[0;34m[\u001B[0m\u001B[0;36m15\u001B[0m\u001B[0;34m,\u001B[0m\u001B[0;36m10\u001B[0m\u001B[0;34m]\u001B[0m\u001B[0;34m)\u001B[0m\u001B[0;34m\u001B[0m\u001B[0;34m\u001B[0m\u001B[0m\n",
      "\u001B[0;32m~/opt/anaconda3/lib/python3.8/site-packages/pandas/core/frame.py\u001B[0m in \u001B[0;36m__setitem__\u001B[0;34m(self, key, value)\u001B[0m\n\u001B[1;32m   3161\u001B[0m         \u001B[0;32melse\u001B[0m\u001B[0;34m:\u001B[0m\u001B[0;34m\u001B[0m\u001B[0;34m\u001B[0m\u001B[0m\n\u001B[1;32m   3162\u001B[0m             \u001B[0;31m# set column\u001B[0m\u001B[0;34m\u001B[0m\u001B[0;34m\u001B[0m\u001B[0;34m\u001B[0m\u001B[0m\n\u001B[0;32m-> 3163\u001B[0;31m             \u001B[0mself\u001B[0m\u001B[0;34m.\u001B[0m\u001B[0m_set_item\u001B[0m\u001B[0;34m(\u001B[0m\u001B[0mkey\u001B[0m\u001B[0;34m,\u001B[0m \u001B[0mvalue\u001B[0m\u001B[0;34m)\u001B[0m\u001B[0;34m\u001B[0m\u001B[0;34m\u001B[0m\u001B[0m\n\u001B[0m\u001B[1;32m   3164\u001B[0m \u001B[0;34m\u001B[0m\u001B[0m\n\u001B[1;32m   3165\u001B[0m     \u001B[0;32mdef\u001B[0m \u001B[0m_setitem_slice\u001B[0m\u001B[0;34m(\u001B[0m\u001B[0mself\u001B[0m\u001B[0;34m,\u001B[0m \u001B[0mkey\u001B[0m\u001B[0;34m:\u001B[0m \u001B[0mslice\u001B[0m\u001B[0;34m,\u001B[0m \u001B[0mvalue\u001B[0m\u001B[0;34m)\u001B[0m\u001B[0;34m:\u001B[0m\u001B[0;34m\u001B[0m\u001B[0;34m\u001B[0m\u001B[0m\n",
      "\u001B[0;32m~/opt/anaconda3/lib/python3.8/site-packages/pandas/core/frame.py\u001B[0m in \u001B[0;36m_set_item\u001B[0;34m(self, key, value)\u001B[0m\n\u001B[1;32m   3241\u001B[0m         \u001B[0mself\u001B[0m\u001B[0;34m.\u001B[0m\u001B[0m_ensure_valid_index\u001B[0m\u001B[0;34m(\u001B[0m\u001B[0mvalue\u001B[0m\u001B[0;34m)\u001B[0m\u001B[0;34m\u001B[0m\u001B[0;34m\u001B[0m\u001B[0m\n\u001B[1;32m   3242\u001B[0m         \u001B[0mvalue\u001B[0m \u001B[0;34m=\u001B[0m \u001B[0mself\u001B[0m\u001B[0;34m.\u001B[0m\u001B[0m_sanitize_column\u001B[0m\u001B[0;34m(\u001B[0m\u001B[0mkey\u001B[0m\u001B[0;34m,\u001B[0m \u001B[0mvalue\u001B[0m\u001B[0;34m)\u001B[0m\u001B[0;34m\u001B[0m\u001B[0;34m\u001B[0m\u001B[0m\n\u001B[0;32m-> 3243\u001B[0;31m         \u001B[0mNDFrame\u001B[0m\u001B[0;34m.\u001B[0m\u001B[0m_set_item\u001B[0m\u001B[0;34m(\u001B[0m\u001B[0mself\u001B[0m\u001B[0;34m,\u001B[0m \u001B[0mkey\u001B[0m\u001B[0;34m,\u001B[0m \u001B[0mvalue\u001B[0m\u001B[0;34m)\u001B[0m\u001B[0;34m\u001B[0m\u001B[0;34m\u001B[0m\u001B[0m\n\u001B[0m\u001B[1;32m   3244\u001B[0m \u001B[0;34m\u001B[0m\u001B[0m\n\u001B[1;32m   3245\u001B[0m         \u001B[0;31m# check if we are modifying a copy\u001B[0m\u001B[0;34m\u001B[0m\u001B[0;34m\u001B[0m\u001B[0;34m\u001B[0m\u001B[0m\n",
      "\u001B[0;32m~/opt/anaconda3/lib/python3.8/site-packages/pandas/core/generic.py\u001B[0m in \u001B[0;36m_set_item\u001B[0;34m(self, key, value)\u001B[0m\n\u001B[1;32m   3827\u001B[0m         \u001B[0;32mexcept\u001B[0m \u001B[0mKeyError\u001B[0m\u001B[0;34m:\u001B[0m\u001B[0;34m\u001B[0m\u001B[0;34m\u001B[0m\u001B[0m\n\u001B[1;32m   3828\u001B[0m             \u001B[0;31m# This item wasn't present, just insert at end\u001B[0m\u001B[0;34m\u001B[0m\u001B[0;34m\u001B[0m\u001B[0;34m\u001B[0m\u001B[0m\n\u001B[0;32m-> 3829\u001B[0;31m             \u001B[0mself\u001B[0m\u001B[0;34m.\u001B[0m\u001B[0m_mgr\u001B[0m\u001B[0;34m.\u001B[0m\u001B[0minsert\u001B[0m\u001B[0;34m(\u001B[0m\u001B[0mlen\u001B[0m\u001B[0;34m(\u001B[0m\u001B[0mself\u001B[0m\u001B[0;34m.\u001B[0m\u001B[0m_info_axis\u001B[0m\u001B[0;34m)\u001B[0m\u001B[0;34m,\u001B[0m \u001B[0mkey\u001B[0m\u001B[0;34m,\u001B[0m \u001B[0mvalue\u001B[0m\u001B[0;34m)\u001B[0m\u001B[0;34m\u001B[0m\u001B[0;34m\u001B[0m\u001B[0m\n\u001B[0m\u001B[1;32m   3830\u001B[0m             \u001B[0;32mreturn\u001B[0m\u001B[0;34m\u001B[0m\u001B[0;34m\u001B[0m\u001B[0m\n\u001B[1;32m   3831\u001B[0m \u001B[0;34m\u001B[0m\u001B[0m\n",
      "\u001B[0;32m~/opt/anaconda3/lib/python3.8/site-packages/pandas/core/internals/managers.py\u001B[0m in \u001B[0;36minsert\u001B[0;34m(self, loc, item, value, allow_duplicates)\u001B[0m\n\u001B[1;32m   1201\u001B[0m             \u001B[0mvalue\u001B[0m \u001B[0;34m=\u001B[0m \u001B[0msafe_reshape\u001B[0m\u001B[0;34m(\u001B[0m\u001B[0mvalue\u001B[0m\u001B[0;34m,\u001B[0m \u001B[0;34m(\u001B[0m\u001B[0;36m1\u001B[0m\u001B[0;34m,\u001B[0m\u001B[0;34m)\u001B[0m \u001B[0;34m+\u001B[0m \u001B[0mvalue\u001B[0m\u001B[0;34m.\u001B[0m\u001B[0mshape\u001B[0m\u001B[0;34m)\u001B[0m\u001B[0;34m\u001B[0m\u001B[0;34m\u001B[0m\u001B[0m\n\u001B[1;32m   1202\u001B[0m \u001B[0;34m\u001B[0m\u001B[0m\n\u001B[0;32m-> 1203\u001B[0;31m         \u001B[0mblock\u001B[0m \u001B[0;34m=\u001B[0m \u001B[0mmake_block\u001B[0m\u001B[0;34m(\u001B[0m\u001B[0mvalues\u001B[0m\u001B[0;34m=\u001B[0m\u001B[0mvalue\u001B[0m\u001B[0;34m,\u001B[0m \u001B[0mndim\u001B[0m\u001B[0;34m=\u001B[0m\u001B[0mself\u001B[0m\u001B[0;34m.\u001B[0m\u001B[0mndim\u001B[0m\u001B[0;34m,\u001B[0m \u001B[0mplacement\u001B[0m\u001B[0;34m=\u001B[0m\u001B[0mslice\u001B[0m\u001B[0;34m(\u001B[0m\u001B[0mloc\u001B[0m\u001B[0;34m,\u001B[0m \u001B[0mloc\u001B[0m \u001B[0;34m+\u001B[0m \u001B[0;36m1\u001B[0m\u001B[0;34m)\u001B[0m\u001B[0;34m)\u001B[0m\u001B[0;34m\u001B[0m\u001B[0;34m\u001B[0m\u001B[0m\n\u001B[0m\u001B[1;32m   1204\u001B[0m \u001B[0;34m\u001B[0m\u001B[0m\n\u001B[1;32m   1205\u001B[0m         \u001B[0;32mfor\u001B[0m \u001B[0mblkno\u001B[0m\u001B[0;34m,\u001B[0m \u001B[0mcount\u001B[0m \u001B[0;32min\u001B[0m \u001B[0m_fast_count_smallints\u001B[0m\u001B[0;34m(\u001B[0m\u001B[0mself\u001B[0m\u001B[0;34m.\u001B[0m\u001B[0mblknos\u001B[0m\u001B[0;34m[\u001B[0m\u001B[0mloc\u001B[0m\u001B[0;34m:\u001B[0m\u001B[0;34m]\u001B[0m\u001B[0;34m)\u001B[0m\u001B[0;34m:\u001B[0m\u001B[0;34m\u001B[0m\u001B[0;34m\u001B[0m\u001B[0m\n",
      "\u001B[0;32m~/opt/anaconda3/lib/python3.8/site-packages/pandas/core/internals/blocks.py\u001B[0m in \u001B[0;36mmake_block\u001B[0;34m(values, placement, klass, ndim, dtype)\u001B[0m\n\u001B[1;32m   2740\u001B[0m         \u001B[0mvalues\u001B[0m \u001B[0;34m=\u001B[0m \u001B[0mDatetimeArray\u001B[0m\u001B[0;34m.\u001B[0m\u001B[0m_simple_new\u001B[0m\u001B[0;34m(\u001B[0m\u001B[0mvalues\u001B[0m\u001B[0;34m,\u001B[0m \u001B[0mdtype\u001B[0m\u001B[0;34m=\u001B[0m\u001B[0mdtype\u001B[0m\u001B[0;34m)\u001B[0m\u001B[0;34m\u001B[0m\u001B[0;34m\u001B[0m\u001B[0m\n\u001B[1;32m   2741\u001B[0m \u001B[0;34m\u001B[0m\u001B[0m\n\u001B[0;32m-> 2742\u001B[0;31m     \u001B[0;32mreturn\u001B[0m \u001B[0mklass\u001B[0m\u001B[0;34m(\u001B[0m\u001B[0mvalues\u001B[0m\u001B[0;34m,\u001B[0m \u001B[0mndim\u001B[0m\u001B[0;34m=\u001B[0m\u001B[0mndim\u001B[0m\u001B[0;34m,\u001B[0m \u001B[0mplacement\u001B[0m\u001B[0;34m=\u001B[0m\u001B[0mplacement\u001B[0m\u001B[0;34m)\u001B[0m\u001B[0;34m\u001B[0m\u001B[0;34m\u001B[0m\u001B[0m\n\u001B[0m\u001B[1;32m   2743\u001B[0m \u001B[0;34m\u001B[0m\u001B[0m\n\u001B[1;32m   2744\u001B[0m \u001B[0;34m\u001B[0m\u001B[0m\n",
      "\u001B[0;32m~/opt/anaconda3/lib/python3.8/site-packages/pandas/core/internals/blocks.py\u001B[0m in \u001B[0;36m__init__\u001B[0;34m(self, values, placement, ndim)\u001B[0m\n\u001B[1;32m    140\u001B[0m \u001B[0;34m\u001B[0m\u001B[0m\n\u001B[1;32m    141\u001B[0m         \u001B[0;32mif\u001B[0m \u001B[0mself\u001B[0m\u001B[0;34m.\u001B[0m\u001B[0m_validate_ndim\u001B[0m \u001B[0;32mand\u001B[0m \u001B[0mself\u001B[0m\u001B[0;34m.\u001B[0m\u001B[0mndim\u001B[0m \u001B[0;32mand\u001B[0m \u001B[0mlen\u001B[0m\u001B[0;34m(\u001B[0m\u001B[0mself\u001B[0m\u001B[0;34m.\u001B[0m\u001B[0mmgr_locs\u001B[0m\u001B[0;34m)\u001B[0m \u001B[0;34m!=\u001B[0m \u001B[0mlen\u001B[0m\u001B[0;34m(\u001B[0m\u001B[0mself\u001B[0m\u001B[0;34m.\u001B[0m\u001B[0mvalues\u001B[0m\u001B[0;34m)\u001B[0m\u001B[0;34m:\u001B[0m\u001B[0;34m\u001B[0m\u001B[0;34m\u001B[0m\u001B[0m\n\u001B[0;32m--> 142\u001B[0;31m             raise ValueError(\n\u001B[0m\u001B[1;32m    143\u001B[0m                 \u001B[0;34mf\"Wrong number of items passed {len(self.values)}, \"\u001B[0m\u001B[0;34m\u001B[0m\u001B[0;34m\u001B[0m\u001B[0m\n\u001B[1;32m    144\u001B[0m                 \u001B[0;34mf\"placement implies {len(self.mgr_locs)}\"\u001B[0m\u001B[0;34m\u001B[0m\u001B[0;34m\u001B[0m\u001B[0m\n",
      "\u001B[0;31mValueError\u001B[0m: Wrong number of items passed 2, placement implies 1"
     ]
    }
   ],
   "source": [
    "mx_tc = mx.copy()\n",
    "mx_tc.drop(columns=['location', 'sum_new_tests', 'sum_new_vaccinations', 'index'], inplace=True)\n",
    "mx_tc.index = mx_tc.date\n",
    "mx_tc['CMA_4'] = mx_tc.expanding(min_periods=4).mean()\n",
    "\n",
    "plt.figure(figsize=[15,10])\n",
    "plt.grid(True)\n",
    "plt.plot(mx_tc['sum_new_cases'],label='new Cases')\n",
    "plt.plot(mx_tc['CMA_4'],label='CMA_4')\n",
    "plt.legend(loc=2)"
   ]
  },
  {
   "cell_type": "markdown",
   "metadata": {},
   "source": [
    "### New Tests, Cases, Vaccinations"
   ]
  },
  {
   "cell_type": "code",
   "execution_count": 69,
   "metadata": {},
   "outputs": [
    {
     "data": {},
     "metadata": {},
     "output_type": "display_data"
    },
    {
     "data": {
      "text/html": "<div id='1002'>\n\n\n\n\n\n  <div class=\"bk-root\" id=\"02beb2d9-d1f9-4c74-82c8-f75c46a59163\" data-root-id=\"1002\"></div>\n</div>\n<script type=\"application/javascript\">(function(root) {\n  function embed_document(root) {\n    var docs_json = {\"ff29b4d7-ac1b-41d9-b2e0-052e881ee753\":{\"defs\":[],\"roots\":{\"references\":[{\"attributes\":{\"margin\":[5,5,5,5],\"name\":\"HSpacer01800\",\"sizing_mode\":\"stretch_width\"},\"id\":\"1003\",\"type\":\"Spacer\"},{\"attributes\":{\"months\":[0,1,2,3,4,5,6,7,8,9,10,11]},\"id\":\"1185\",\"type\":\"MonthsTicker\"},{\"attributes\":{\"mantissas\":[1,2,5],\"max_interval\":500.0,\"num_minor_ticks\":0},\"id\":\"1155\",\"type\":\"AdaptiveTicker\"},{\"attributes\":{\"mantissas\":[1,2,5],\"max_interval\":500.0,\"num_minor_ticks\":0},\"id\":\"1178\",\"type\":\"AdaptiveTicker\"},{\"attributes\":{\"base\":60,\"mantissas\":[1,2,5,10,15,20,30],\"max_interval\":1800000.0,\"min_interval\":1000.0,\"num_minor_ticks\":0},\"id\":\"1156\",\"type\":\"AdaptiveTicker\"},{\"attributes\":{\"days\":[1,2,3,4,5,6,7,8,9,10,11,12,13,14,15,16,17,18,19,20,21,22,23,24,25,26,27,28,29,30,31]},\"id\":\"1158\",\"type\":\"DaysTicker\"},{\"attributes\":{\"base\":24,\"mantissas\":[1,2,4,6,8,12],\"max_interval\":43200000.0,\"min_interval\":3600000.0,\"num_minor_ticks\":0},\"id\":\"1157\",\"type\":\"AdaptiveTicker\"},{\"attributes\":{\"months\":[0,1,2,3,4,5,6,7,8,9,10,11]},\"id\":\"1162\",\"type\":\"MonthsTicker\"},{\"attributes\":{\"months\":[0,2,4,6,8,10]},\"id\":\"1163\",\"type\":\"MonthsTicker\"},{\"attributes\":{\"days\":[1,4,7,10,13,16,19,22,25,28]},\"id\":\"1159\",\"type\":\"DaysTicker\"},{\"attributes\":{\"days\":[1,15]},\"id\":\"1161\",\"type\":\"DaysTicker\"},{\"attributes\":{\"months\":[0,6]},\"id\":\"1165\",\"type\":\"MonthsTicker\"},{\"attributes\":{\"days\":[1,8,15,22]},\"id\":\"1160\",\"type\":\"DaysTicker\"},{\"attributes\":{},\"id\":\"1166\",\"type\":\"YearsTicker\"},{\"attributes\":{\"months\":[0,4,8]},\"id\":\"1164\",\"type\":\"MonthsTicker\"},{\"attributes\":{\"base\":24,\"mantissas\":[1,2,4,6,8,12],\"max_interval\":43200000.0,\"min_interval\":3600000.0,\"num_minor_ticks\":0},\"id\":\"1180\",\"type\":\"AdaptiveTicker\"},{\"attributes\":{},\"id\":\"1189\",\"type\":\"YearsTicker\"},{\"attributes\":{\"children\":[{\"id\":\"1003\"},{\"id\":\"1218\"},{\"id\":\"1813\"}],\"margin\":[0,0,0,0],\"name\":\"Row01796\",\"tags\":[\"embedded\"]},\"id\":\"1002\",\"type\":\"Row\"},{\"attributes\":{\"months\":[0,6]},\"id\":\"1188\",\"type\":\"MonthsTicker\"},{\"attributes\":{\"days\":[1,4,7,10,13,16,19,22,25,28]},\"id\":\"1182\",\"type\":\"DaysTicker\"},{\"attributes\":{\"months\":[0,4,8]},\"id\":\"1187\",\"type\":\"MonthsTicker\"},{\"attributes\":{},\"id\":\"1199\",\"type\":\"UnionRenderers\"},{\"attributes\":{\"days\":[1,2,3,4,5,6,7,8,9,10,11,12,13,14,15,16,17,18,19,20,21,22,23,24,25,26,27,28,29,30,31]},\"id\":\"1181\",\"type\":\"DaysTicker\"},{\"attributes\":{\"base\":60,\"mantissas\":[1,2,5,10,15,20,30],\"max_interval\":1800000.0,\"min_interval\":1000.0,\"num_minor_ticks\":0},\"id\":\"1179\",\"type\":\"AdaptiveTicker\"},{\"attributes\":{},\"id\":\"1212\",\"type\":\"YearsTicker\"},{\"attributes\":{\"days\":[1,8,15,22]},\"id\":\"1206\",\"type\":\"DaysTicker\"},{\"attributes\":{\"days\":[1,15]},\"id\":\"1184\",\"type\":\"DaysTicker\"},{\"attributes\":{\"days\":[1,15]},\"id\":\"1207\",\"type\":\"DaysTicker\"},{\"attributes\":{\"months\":[0,6]},\"id\":\"1211\",\"type\":\"MonthsTicker\"},{\"attributes\":{\"months\":[0,2,4,6,8,10]},\"id\":\"1186\",\"type\":\"MonthsTicker\"},{\"attributes\":{\"base\":60,\"mantissas\":[1,2,5,10,15,20,30],\"max_interval\":1800000.0,\"min_interval\":1000.0,\"num_minor_ticks\":0},\"id\":\"1202\",\"type\":\"AdaptiveTicker\"},{\"attributes\":{\"days\":[1,8,15,22]},\"id\":\"1183\",\"type\":\"DaysTicker\"},{\"attributes\":{\"base\":24,\"mantissas\":[1,2,4,6,8,12],\"max_interval\":43200000.0,\"min_interval\":3600000.0,\"num_minor_ticks\":0},\"id\":\"1203\",\"type\":\"AdaptiveTicker\"},{\"attributes\":{\"months\":[0,1,2,3,4,5,6,7,8,9,10,11]},\"id\":\"1208\",\"type\":\"MonthsTicker\"},{\"attributes\":{\"mantissas\":[1,2,5],\"max_interval\":500.0,\"num_minor_ticks\":0},\"id\":\"1201\",\"type\":\"AdaptiveTicker\"},{\"attributes\":{\"months\":[0,2,4,6,8,10]},\"id\":\"1209\",\"type\":\"MonthsTicker\"},{\"attributes\":{\"months\":[0,4,8]},\"id\":\"1210\",\"type\":\"MonthsTicker\"},{\"attributes\":{\"days\":[1,2,3,4,5,6,7,8,9,10,11,12,13,14,15,16,17,18,19,20,21,22,23,24,25,26,27,28,29,30,31]},\"id\":\"1204\",\"type\":\"DaysTicker\"},{\"attributes\":{\"days\":[1,4,7,10,13,16,19,22,25,28]},\"id\":\"1205\",\"type\":\"DaysTicker\"},{\"attributes\":{\"data_source\":{\"id\":\"1084\"},\"glyph\":{\"id\":\"1087\"},\"hover_glyph\":null,\"muted_glyph\":{\"id\":\"1089\"},\"nonselection_glyph\":{\"id\":\"1088\"},\"selection_glyph\":{\"id\":\"1092\"},\"view\":{\"id\":\"1091\"}},\"id\":\"1090\",\"type\":\"GlyphRenderer\"},{\"attributes\":{\"data\":{\"date\":{\"__ndarray__\":\"AADATAZsd0IAAICyWGx3QgAAQBirbHdCAAAAfv1sd0IAAMDjT213QgAAgEmibXdCAABAr/Rtd0IAAAAVR253QgAAwHqZbndCAACA4Otud0IAAEBGPm93QgAAAKyQb3dCAADAEeNvd0IAAIB3NXB3QgAAQN2HcHdCAAAAQ9pwd0IAAMCoLHF3QgAAgA5/cXdCAABAdNFxd0IAAADaI3J3QgAAwD92cndCAACApchyd0IAAEALG3N3QgAAAHFtc3dCAADA1r9zd0IAAIA8EnR3QgAAQKJkdHdCAAAACLd0d0IAAMBtCXV3QgAAgNNbdXdCAABAOa51d0IAAACfAHZ3QgAAwARTdndCAACAaqV2d0IAAEDQ93Z3QgAAADZKd3dCAADAm5x3d0IAAIAB73d3QgAAQGdBeHdCAAAAzZN4d0IAAMAy5nh3QgAAgJg4eXdCAABA/op5d0IAAABk3Xl3QgAAwMkvendCAACAL4J6d0IAAECV1Hp3QgAAAPsme3dCAADAYHl7d0IAAIDGy3t3QgAAQCwefHdCAAAAknB8d0IAAMD3wnx3QgAAgF0VfXdCAABAw2d9d0IAAAApun13QgAAwI4MfndCAACA9F5+d0IAAEBasX53QgAAAMADf3dCAADAJVZ/d0IAAICLqH93QgAAQPH6f3dCAAAAV02Ad0IAAMC8n4B3QgAAgCLygHdCAABAiESBd0IAAADuloF3QgAAwFPpgXdCAACAuTuCd0IAAEAfjoJ3QgAAAIXggndCAADA6jKDd0IAAIBQhYN3QgAAQLbXg3dCAAAAHCqEd0IAAMCBfIR3QgAAgOfOhHdCAABATSGFd0IAAACzc4V3QgAAwBjGhXdCAACAfhiGd0IAAEDkaoZ3QgAAAEq9hndCAADArw+Hd0IAAIAVYod3QgAAQHu0h3dCAAAA4QaId0IAAMBGWYh3QgAAgKyriHdCAABAEv6Id0IAAAB4UIl3QgAAwN2iiXdCAACAQ/WJd0IAAECpR4p3QgAAAA+aindCAADAdOyKd0IAAIDaPot3QgAAQECRi3dCAAAApuOLd0IAAMALNox3QgAAgHGIjHdCAABA19qMd0IAAAA9LY13QgAAwKJ/jXdCAACACNKNd0IAAEBuJI53QgAAANR2jndCAADAOcmOd0IAAICfG493QgAAQAVuj3dCAAAAa8CPd0IAAMDQEpB3QgAAgDZlkHdCAABAnLeQd0IAAAACCpF3QgAAwGdckXdCAACAza6Rd0IAAEAzAZJ3QgAAAJlTkndCAADA/qWSd0IAAIBk+JJ3QgAAQMpKk3dCAAAAMJ2Td0IAAMCV75N3QgAAgPtBlHdCAABAYZSUd0IAAADH5pR3QgAAwCw5lXdCAACAkouVd0IAAED43ZV3QgAAAF4wlndCAADAw4KWd0IAAIAp1ZZ3QgAAQI8nl3dCAAAA9XmXd0IAAMBazJd3QgAAgMAemHdCAABAJnGYd0IAAACMw5h3QgAAwPEVmXdCAACAV2iZd0IAAEC9upl3QgAAACMNmndCAADAiF+ad0IAAIDusZp3QgAAQFQEm3dCAAAAulabd0IAAMAfqZt3Qg==\",\"dtype\":\"float64\",\"order\":\"little\",\"shape\":[149]},\"sum_new_cases\":{\"__ndarray__\":\"AAAAALhWEkEAAAAAqH4JQQAAAAAodgZBAAAAABCxDEEAAAAAqDQPQQAAAAAE/RBBAAAAAGQFEkEAAAAAONsPQQAAAAA4DQpBAAAAAEA0CkEAAAAAuLQLQQAAAADoHAxBAAAAALDHDEEAAAAA4KINQQAAAAAQpAhBAAAAAFi4BUEAAAAAcIcBQQAAAADAggVBAAAAAOheBkEAAAAAAKoHQQAAAABASQdBAAAAADjYBEEAAAAA8AMAQQAAAADogwJBAAAAAFAFAkEAAAAASMsCQQAAAAAgmwRBAAAAAKhWBEEAAAAA2GMBQQAAAACAYftAAAAAAPh5AEEAAAAAcCb8QAAAAACwtf1AAAAAAGBG/kAAAAAAsGgAQQAAAAAAb/lAAAAAACDp9UAAAAAAYBT2QAAAAAAQQvdAAAAAACBB90AAAAAAQNL5QAAAAABgVfhAAAAAADBL9UAAAAAA4M3vQAAAAADggOpAAAAAAECE7kAAAAAAsB/xQAAAAABwEfFAAAAAACBb80AAAAAAAIHxQAAAAAAA6OtAAAAAAOBr60AAAAAA4KTxQAAAAADQP/JAAAAAAADs8kAAAAAAUOLyQAAAAABAju9AAAAAAMAb6UAAAAAAQF7sQAAAAABA4etAAAAAAHBn8EAAAAAAwJ3wQAAAAAAwN/BAAAAAAMBx7EAAAAAAIA7kQAAAAACg7uVAAAAAAGAo7EAAAAAA4ETsQAAAAADggO5AAAAAACAJ7kAAAAAA4OTpQAAAAADAsOJAAAAAAKCb60AAAAAAAF/qQAAAAAAA8uxAAAAAAOB67UAAAAAAYBruQAAAAADgG+tAAAAAAMCD4EAAAAAAgB3pQAAAAAAAN+pAAAAAAKA59UAAAAAAoH3wQAAAAAAQ5PJAAAAAAECv7kAAAAAA4BrlQAAAAACQ6fBAAAAAAKD+7UAAAAAA0EzwQAAAAADwUPNAAAAAAPAP8UAAAAAAoOPuQAAAAACgJ+FAAAAAAMDl8kAAAAAAQKDtQAAAAADQUPJAAAAAAGCB80AAAAAAYDH0QAAAAADwR/BAAAAAAKC15kAAAAAAsBvxQAAAAADgCPNAAAAAALBo8kAAAAAAQCTyQAAAAABwjPNAAAAAAICm6UAAAAAAIJHkQAAAAACQoPBAAAAAAKDC7UAAAAAA4LDuQAAAAADgbPBAAAAAAGB57kAAAAAA4B7qQAAAAABAZt9AAAAAAAA650AAAAAAgNLoQAAAAADA7epAAAAAAGBx7EAAAAAA4EfsQAAAAADgKeZAAAAAAMC23EAAAAAAYKfoQAAAAABg4uNAAAAAAADU5UAAAAAAoDjnQAAAAABAgOdAAAAAAGBx4EAAAAAAwOzUQAAAAADA9+FAAAAAAMBv4EAAAAAAQH7hQAAAAACAl+JAAAAAAICi5EAAAAAAQC7cQAAAAADAetBAAAAAAEDz20AAAAAAQCPbQAAAAABAndxAAAAAAIB/3UAAAAAAgErbQAAAAACAVdNAAAAAAAAiyUAAAAAAwDXZQAAAAADANNZAAAAAAABq10AAAAAAAM7aQAAAAADAWNVAAAAAAIBwx0AAAAAAAE66QA==\",\"dtype\":\"float64\",\"order\":\"little\",\"shape\":[149]}},\"selected\":{\"id\":\"1085\"},\"selection_policy\":{\"id\":\"1176\"}},\"id\":\"1084\",\"type\":\"ColumnDataSource\"},{\"attributes\":{\"below\":[{\"id\":\"1016\"}],\"center\":[{\"id\":\"1019\"},{\"id\":\"1023\"}],\"height\":400,\"left\":[{\"id\":\"1020\"}],\"margin\":null,\"min_border_bottom\":10,\"min_border_left\":10,\"min_border_right\":10,\"min_border_top\":10,\"renderers\":[{\"id\":\"1043\"}],\"sizing_mode\":\"fixed\",\"title\":{\"id\":\"1008\"},\"toolbar\":{\"id\":\"1030\"},\"toolbar_location\":null,\"width\":900,\"x_range\":{\"id\":\"1004\"},\"x_scale\":{\"id\":\"1012\"},\"y_range\":{\"id\":\"1005\"},\"y_scale\":{\"id\":\"1014\"}},\"id\":\"1007\",\"subtype\":\"Figure\",\"type\":\"Plot\"},{\"attributes\":{\"line_alpha\":0.2,\"line_color\":\"#30a2da\",\"line_width\":2,\"x\":{\"field\":\"date\"},\"y\":{\"field\":\"sum_new_tests\"}},\"id\":\"1042\",\"type\":\"Line\"},{\"attributes\":{\"line_color\":\"#30a2da\",\"line_width\":2,\"x\":{\"field\":\"date\"},\"y\":{\"field\":\"sum_new_cases\"}},\"id\":\"1092\",\"type\":\"Line\"},{\"attributes\":{},\"id\":\"1093\",\"type\":\"AllLabels\"},{\"attributes\":{\"end\":1622332800000.0,\"reset_end\":1622332800000.0,\"reset_start\":1609545600000.0,\"start\":1609545600000.0,\"tags\":[[[\"date\",\"date\",null]]]},\"id\":\"1004\",\"type\":\"Range1d\"},{\"attributes\":{\"line_alpha\":0.2,\"line_color\":\"#30a2da\",\"line_width\":2,\"x\":{\"field\":\"date\"},\"y\":{\"field\":\"sum_new_cases\"}},\"id\":\"1089\",\"type\":\"Line\"},{\"attributes\":{\"source\":{\"id\":\"1084\"}},\"id\":\"1091\",\"type\":\"CDSView\"},{\"attributes\":{\"source\":{\"id\":\"1037\"}},\"id\":\"1044\",\"type\":\"CDSView\"},{\"attributes\":{\"line_alpha\":0.1,\"line_color\":\"#30a2da\",\"line_width\":2,\"x\":{\"field\":\"date\"},\"y\":{\"field\":\"sum_new_vaccinations\"}},\"id\":\"1135\",\"type\":\"Line\"},{\"attributes\":{},\"id\":\"1095\",\"type\":\"DatetimeTickFormatter\"},{\"attributes\":{},\"id\":\"1143\",\"type\":\"AllLabels\"},{\"attributes\":{\"line_color\":\"#30a2da\",\"line_width\":2,\"x\":{\"field\":\"date\"},\"y\":{\"field\":\"sum_new_tests\"}},\"id\":\"1045\",\"type\":\"Line\"},{\"attributes\":{\"line_color\":\"#30a2da\",\"line_width\":2,\"x\":{\"field\":\"date\"},\"y\":{\"field\":\"sum_new_vaccinations\"}},\"id\":\"1134\",\"type\":\"Line\"},{\"attributes\":{},\"id\":\"1048\",\"type\":\"DatetimeTickFormatter\"},{\"attributes\":{\"line_alpha\":0.1,\"line_color\":\"#30a2da\",\"line_width\":2,\"x\":{\"field\":\"date\"},\"y\":{\"field\":\"sum_new_cases\"}},\"id\":\"1088\",\"type\":\"Line\"},{\"attributes\":{\"active_multi\":null,\"tools\":[{\"id\":\"1100\"},{\"id\":\"1118\"},{\"id\":\"1119\"},{\"id\":\"1120\"},{\"id\":\"1121\"},{\"id\":\"1122\"}]},\"id\":\"1124\",\"type\":\"Toolbar\"},{\"attributes\":{\"axis\":{\"id\":\"1067\"},\"dimension\":1,\"grid_line_color\":null,\"ticker\":null},\"id\":\"1070\",\"type\":\"Grid\"},{\"attributes\":{\"callback\":null,\"formatters\":{\"@{date}\":\"datetime\"},\"renderers\":[{\"id\":\"1090\"}],\"tags\":[\"hv_created\"],\"tooltips\":[[\"date\",\"@{date}{%F %T}\"],[\"sum_new_cases\",\"@{sum_new_cases}\"]]},\"id\":\"1053\",\"type\":\"HoverTool\"},{\"attributes\":{},\"id\":\"1098\",\"type\":\"BasicTickFormatter\"},{\"attributes\":{},\"id\":\"1051\",\"type\":\"BasicTickFormatter\"},{\"attributes\":{\"source\":{\"id\":\"1131\"}},\"id\":\"1138\",\"type\":\"CDSView\"},{\"attributes\":{\"line_color\":\"#30a2da\",\"line_width\":2,\"x\":{\"field\":\"date\"},\"y\":{\"field\":\"sum_new_cases\"}},\"id\":\"1087\",\"type\":\"Line\"},{\"attributes\":{},\"id\":\"1038\",\"type\":\"Selection\"},{\"attributes\":{\"line_alpha\":0.2,\"line_color\":\"#30a2da\",\"line_width\":2,\"x\":{\"field\":\"date\"},\"y\":{\"field\":\"sum_new_vaccinations\"}},\"id\":\"1136\",\"type\":\"Line\"},{\"attributes\":{\"axis\":{\"id\":\"1110\"},\"grid_line_color\":null,\"ticker\":null},\"id\":\"1113\",\"type\":\"Grid\"},{\"attributes\":{},\"id\":\"1140\",\"type\":\"AllLabels\"},{\"attributes\":{},\"id\":\"1176\",\"type\":\"UnionRenderers\"},{\"attributes\":{},\"id\":\"1119\",\"type\":\"PanTool\"},{\"attributes\":{},\"id\":\"1025\",\"type\":\"PanTool\"},{\"attributes\":{\"overlay\":{\"id\":\"1076\"}},\"id\":\"1074\",\"type\":\"BoxZoomTool\"},{\"attributes\":{},\"id\":\"1075\",\"type\":\"ResetTool\"},{\"attributes\":{\"active_multi\":null,\"tools\":[{\"id\":\"1053\"},{\"id\":\"1071\"},{\"id\":\"1072\"},{\"id\":\"1073\"},{\"id\":\"1074\"},{\"id\":\"1075\"}]},\"id\":\"1077\",\"type\":\"Toolbar\"},{\"attributes\":{\"line_color\":\"#30a2da\",\"line_width\":2,\"x\":{\"field\":\"date\"},\"y\":{\"field\":\"sum_new_vaccinations\"}},\"id\":\"1139\",\"type\":\"Line\"},{\"attributes\":{\"toolbar\":{\"id\":\"1216\"},\"toolbar_location\":\"above\"},\"id\":\"1217\",\"type\":\"ToolbarBox\"},{\"attributes\":{},\"id\":\"1096\",\"type\":\"AllLabels\"},{\"attributes\":{\"below\":[{\"id\":\"1063\"}],\"center\":[{\"id\":\"1066\"},{\"id\":\"1070\"}],\"height\":400,\"left\":[{\"id\":\"1067\"}],\"margin\":null,\"min_border_bottom\":10,\"min_border_left\":10,\"min_border_right\":10,\"min_border_top\":10,\"renderers\":[{\"id\":\"1090\"}],\"sizing_mode\":\"fixed\",\"title\":{\"id\":\"1055\"},\"toolbar\":{\"id\":\"1077\"},\"toolbar_location\":null,\"width\":900,\"x_range\":{\"id\":\"1004\"},\"x_scale\":{\"id\":\"1059\"},\"y_range\":{\"id\":\"1052\"},\"y_scale\":{\"id\":\"1061\"}},\"id\":\"1054\",\"subtype\":\"Figure\",\"type\":\"Plot\"},{\"attributes\":{\"callback\":null,\"formatters\":{\"@{date}\":\"datetime\"},\"renderers\":[{\"id\":\"1137\"}],\"tags\":[\"hv_created\"],\"tooltips\":[[\"date\",\"@{date}{%F %T}\"],[\"sum_new_vaccinations\",\"@{sum_new_vaccinations}\"]]},\"id\":\"1100\",\"type\":\"HoverTool\"},{\"attributes\":{\"end\":5065599.9,\"reset_end\":5065599.9,\"reset_start\":-162462.90000000002,\"start\":-162462.90000000002,\"tags\":[[[\"sum_new_vaccinations\",\"sum_new_vaccinations\",null]]]},\"id\":\"1099\",\"type\":\"Range1d\"},{\"attributes\":{\"text\":\"New Cases - United States\",\"text_color\":\"black\",\"text_font_size\":\"12pt\"},\"id\":\"1055\",\"type\":\"Title\"},{\"attributes\":{},\"id\":\"1142\",\"type\":\"DatetimeTickFormatter\"},{\"attributes\":{},\"id\":\"1046\",\"type\":\"AllLabels\"},{\"attributes\":{\"text\":\"Vaccinations - United States\",\"text_color\":\"black\",\"text_font_size\":\"12pt\"},\"id\":\"1102\",\"type\":\"Title\"},{\"attributes\":{\"below\":[{\"id\":\"1110\"}],\"center\":[{\"id\":\"1113\"},{\"id\":\"1117\"}],\"height\":400,\"left\":[{\"id\":\"1114\"}],\"margin\":null,\"min_border_bottom\":10,\"min_border_left\":10,\"min_border_right\":10,\"min_border_top\":10,\"renderers\":[{\"id\":\"1137\"}],\"sizing_mode\":\"fixed\",\"title\":{\"id\":\"1102\"},\"toolbar\":{\"id\":\"1124\"},\"toolbar_location\":null,\"width\":900,\"x_range\":{\"id\":\"1004\"},\"x_scale\":{\"id\":\"1106\"},\"y_range\":{\"id\":\"1099\"},\"y_scale\":{\"id\":\"1108\"}},\"id\":\"1101\",\"subtype\":\"Figure\",\"type\":\"Plot\"},{\"attributes\":{},\"id\":\"1049\",\"type\":\"AllLabels\"},{\"attributes\":{},\"id\":\"1132\",\"type\":\"Selection\"},{\"attributes\":{\"axis\":{\"id\":\"1063\"},\"grid_line_color\":null,\"ticker\":null},\"id\":\"1066\",\"type\":\"Grid\"},{\"attributes\":{\"margin\":[5,5,5,5],\"name\":\"HSpacer01801\",\"sizing_mode\":\"stretch_width\"},\"id\":\"1813\",\"type\":\"Spacer\"},{\"attributes\":{\"callback\":null,\"formatters\":{\"@{date}\":\"datetime\"},\"renderers\":[{\"id\":\"1043\"}],\"tags\":[\"hv_created\"],\"tooltips\":[[\"date\",\"@{date}{%F %T}\"],[\"sum_new_tests\",\"@{sum_new_tests}\"]]},\"id\":\"1006\",\"type\":\"HoverTool\"},{\"attributes\":{},\"id\":\"1073\",\"type\":\"WheelZoomTool\"},{\"attributes\":{\"bottom_units\":\"screen\",\"fill_alpha\":0.5,\"fill_color\":\"lightgrey\",\"left_units\":\"screen\",\"level\":\"overlay\",\"line_alpha\":1.0,\"line_color\":\"black\",\"line_dash\":[4,4],\"line_width\":2,\"right_units\":\"screen\",\"syncable\":false,\"top_units\":\"screen\"},\"id\":\"1029\",\"type\":\"BoxAnnotation\"},{\"attributes\":{\"data_source\":{\"id\":\"1037\"},\"glyph\":{\"id\":\"1040\"},\"hover_glyph\":null,\"muted_glyph\":{\"id\":\"1042\"},\"nonselection_glyph\":{\"id\":\"1041\"},\"selection_glyph\":{\"id\":\"1045\"},\"view\":{\"id\":\"1044\"}},\"id\":\"1043\",\"type\":\"GlyphRenderer\"},{\"attributes\":{\"axis_label\":\"Cases\",\"formatter\":{\"id\":\"1098\"},\"major_label_policy\":{\"id\":\"1096\"},\"ticker\":{\"id\":\"1068\"}},\"id\":\"1067\",\"type\":\"LinearAxis\"},{\"attributes\":{},\"id\":\"1145\",\"type\":\"BasicTickFormatter\"},{\"attributes\":{\"data\":{\"date\":{\"__ndarray__\":\"AADATAZsd0IAAICyWGx3QgAAQBirbHdCAAAAfv1sd0IAAMDjT213QgAAgEmibXdCAABAr/Rtd0IAAAAVR253QgAAwHqZbndCAACA4Otud0IAAEBGPm93QgAAAKyQb3dCAADAEeNvd0IAAIB3NXB3QgAAQN2HcHdCAAAAQ9pwd0IAAMCoLHF3QgAAgA5/cXdCAABAdNFxd0IAAADaI3J3QgAAwD92cndCAACApchyd0IAAEALG3N3QgAAAHFtc3dCAADA1r9zd0IAAIA8EnR3QgAAQKJkdHdCAAAACLd0d0IAAMBtCXV3QgAAgNNbdXdCAABAOa51d0IAAACfAHZ3QgAAwARTdndCAACAaqV2d0IAAEDQ93Z3QgAAADZKd3dCAADAm5x3d0IAAIAB73d3QgAAQGdBeHdCAAAAzZN4d0IAAMAy5nh3QgAAgJg4eXdCAABA/op5d0IAAABk3Xl3QgAAwMkvendCAACAL4J6d0IAAECV1Hp3QgAAAPsme3dCAADAYHl7d0IAAIDGy3t3QgAAQCwefHdCAAAAknB8d0IAAMD3wnx3QgAAgF0VfXdCAABAw2d9d0IAAAApun13QgAAwI4MfndCAACA9F5+d0IAAEBasX53QgAAAMADf3dCAADAJVZ/d0IAAICLqH93QgAAQPH6f3dCAAAAV02Ad0IAAMC8n4B3QgAAgCLygHdCAABAiESBd0IAAADuloF3QgAAwFPpgXdCAACAuTuCd0IAAEAfjoJ3QgAAAIXggndCAADA6jKDd0IAAIBQhYN3QgAAQLbXg3dCAAAAHCqEd0IAAMCBfIR3QgAAgOfOhHdCAABATSGFd0IAAACzc4V3QgAAwBjGhXdCAACAfhiGd0IAAEDkaoZ3QgAAAEq9hndCAADArw+Hd0IAAIAVYod3QgAAQHu0h3dCAAAA4QaId0IAAMBGWYh3QgAAgKyriHdCAABAEv6Id0IAAAB4UIl3QgAAwN2iiXdCAACAQ/WJd0IAAECpR4p3QgAAAA+aindCAADAdOyKd0IAAIDaPot3QgAAQECRi3dCAAAApuOLd0IAAMALNox3QgAAgHGIjHdCAABA19qMd0IAAAA9LY13QgAAwKJ/jXdCAACACNKNd0IAAEBuJI53QgAAANR2jndCAADAOcmOd0IAAICfG493QgAAQAVuj3dCAAAAa8CPd0IAAMDQEpB3QgAAgDZlkHdCAABAnLeQd0IAAAACCpF3QgAAwGdckXdCAACAza6Rd0IAAEAzAZJ3QgAAAJlTkndCAADA/qWSd0IAAIBk+JJ3QgAAQMpKk3dCAAAAMJ2Td0IAAMCV75N3QgAAgPtBlHdCAABAYZSUd0IAAADH5pR3QgAAwCw5lXdCAACAkouVd0IAAED43ZV3QgAAAF4wlndCAADAw4KWd0IAAIAp1ZZ3QgAAQI8nl3dCAAAA9XmXd0IAAMBazJd3QgAAgMAemHdCAABAJnGYd0IAAACMw5h3QgAAwPEVmXdCAACAV2iZd0IAAEC9upl3QgAAACMNmndCAADAiF+ad0IAAIDusZp3QgAAQFQEm3dCAAAAulabd0IAAMAfqZt3Qg==\",\"dtype\":\"float64\",\"order\":\"little\",\"shape\":[149]},\"sum_new_vaccinations\":{\"__ndarray__\":\"AAAAAAAA+H8AAAAAAAD4fwAAAAAAAPh/AAAAAOSsEEEAAAAA4LQcQQAAAAAasiJBAAAAAFp2J0EAAAAAAAD4fwAAAAAAAPh/AAAAAAAA+H8AAAAAoL0UQQAAAAA4CC1BAAAAAAKRKkEAAAAAzT4xQQAAAAAAAPh/AAAAAAAA+H8AAAAAAAD4fwAAAAAAAPh/AAAAADr0KEEAAAAASikvQQAAAADx0zdBAAAAAA/SNUEAAAAAyf8zQQAAAACoBitBAAAAAL6eKEEAAAAAWPYwQQAAAAC4gzdBAAAAAGPNOUEAAAAAOdY5QQAAAAC1lDdBAAAAAF/FMEEAAAAA9AohQQAAAACyvjBBAAAAAJA5NEEAAAAAjqY4QQAAAACA7UBBAAAAgBaUQEEAAAAAmGkyQQAAAAC6EChBAAAAAITcN0EAAAAATLk4QQAAAADA0z5BAAAAAA8GQUEAAAAA1BtBQQAAAAAAAPh/AAAAAAAA+H8AAAAAVzIwQQAAAABENzZBAAAAAOwvPEEAAAAACQI6QQAAAACueztBAAAAAHiVMEEAAAAAohQqQQAAAAAg3TVBAAAAABKbO0EAAACAtaFAQQAAAAD68UFBAAAAgL+JQkEAAAAA8GM5QQAAAAAebDpBAAAAAIkgPUEAAAAA9gI/QQAAAABXlEJBAAAAgFIoRkEAAACAgZxCQQAAAAB2hTpBAAAAALp0OEEAAAAAlPQ+QQAAAIDV8EJBAAAAAChPRkEAAAAAQnRRQQAAAADlszRBAAAAANLYPkEAAAAAvEQ5QQAAAIC9i0FBAAAAgI6KREEAAAAAgbZDQQAAAIC/3EdBAAAAgFUxR0EAAAAAJPM+QQAAAAAdDTpBAAAAANw3QUEAAAAAKZpFQQAAAIBgyElBAAAAgDesSkEAAAAAEgpJQQAAAAAg7kFBAAAAAEZOO0EAAACAsWBEQQAAAADQnklBAAAAgMlTTkEAAACAkyRPQQAAAADmrElBAAAAgBBIQEEAAAAAeG01QQAAAADyAUZBAAAAgJr2SUEAAACAmDJOQQAAAABqqVFBAAAAAA9PS0EAAAAA2S1EQQAAAAAIxENBAAAAgH8kQ0EAAAAAKuVKQQAAAIDdQU5BAAAAAL9hS0EAAACAGvhKQQAAAIAPl0BBAAAAAFGSO0EAAACAK49DQQAAAAAL20ZBAAAAgP2+SUEAAAAA61BJQQAAAABKDEdBAAAAAFMTQEEAAAAALwM5QQAAAIDgBkFBAAAAgJvCREEAAAAAKFtFQQAAAAC5NElBAAAAAD88QEEAAAAAfiMyQQAAAABcLS5BAAAAAItuO0EAAAAACl1CQQAAAICmZ0VBAAAAAGCXQ0EAAAAAfBRCQQAAAAAYuTxBAAAAAPxkN0EAAAAA+583QQAAAAD6Oj1BAAAAAAQcPEEAAAAAJkNCQQAAAAAN8D9BAAAAAJquNkEAAAAA6iMxQQAAAABWxzpBAAAAgGITQEEAAACAKsVAQQAAAADI5UFBAAAAAKMmO0EAAAAAitsxQQAAAABoZytBAAAAAEi4NUEAAAAAbxM3QQAAAADD+zRBAAAAAJh+OEEAAAAAeKwyQQ==\",\"dtype\":\"float64\",\"order\":\"little\",\"shape\":[149]}},\"selected\":{\"id\":\"1132\"},\"selection_policy\":{\"id\":\"1199\"}},\"id\":\"1131\",\"type\":\"ColumnDataSource\"},{\"attributes\":{\"children\":[{\"id\":\"1217\"},{\"id\":\"1215\"}]},\"id\":\"1218\",\"type\":\"Column\"},{\"attributes\":{\"toolbars\":[{\"id\":\"1030\"},{\"id\":\"1077\"},{\"id\":\"1124\"}],\"tools\":[{\"id\":\"1006\"},{\"id\":\"1024\"},{\"id\":\"1025\"},{\"id\":\"1026\"},{\"id\":\"1027\"},{\"id\":\"1028\"},{\"id\":\"1053\"},{\"id\":\"1071\"},{\"id\":\"1072\"},{\"id\":\"1073\"},{\"id\":\"1074\"},{\"id\":\"1075\"},{\"id\":\"1100\"},{\"id\":\"1118\"},{\"id\":\"1119\"},{\"id\":\"1120\"},{\"id\":\"1121\"},{\"id\":\"1122\"}]},\"id\":\"1216\",\"type\":\"ProxyToolbar\"},{\"attributes\":{},\"id\":\"1085\",\"type\":\"Selection\"},{\"attributes\":{\"children\":[[{\"id\":\"1007\"},0,0],[{\"id\":\"1054\"},0,1],[{\"id\":\"1101\"},0,2]]},\"id\":\"1215\",\"type\":\"GridBox\"},{\"attributes\":{\"num_minor_ticks\":5,\"tickers\":[{\"id\":\"1201\"},{\"id\":\"1202\"},{\"id\":\"1203\"},{\"id\":\"1204\"},{\"id\":\"1205\"},{\"id\":\"1206\"},{\"id\":\"1207\"},{\"id\":\"1208\"},{\"id\":\"1209\"},{\"id\":\"1210\"},{\"id\":\"1211\"},{\"id\":\"1212\"}]},\"id\":\"1111\",\"type\":\"DatetimeTicker\"},{\"attributes\":{},\"id\":\"1014\",\"type\":\"LinearScale\"},{\"attributes\":{\"end\":2515525.2,\"reset_end\":2515525.2,\"reset_start\":162226.8,\"start\":162226.8,\"tags\":[[[\"sum_new_tests\",\"sum_new_tests\",null]]]},\"id\":\"1005\",\"type\":\"Range1d\"},{\"attributes\":{},\"id\":\"1071\",\"type\":\"SaveTool\"},{\"attributes\":{\"axis_label\":\"Date\",\"formatter\":{\"id\":\"1048\"},\"major_label_policy\":{\"id\":\"1046\"},\"ticker\":{\"id\":\"1017\"}},\"id\":\"1016\",\"type\":\"DatetimeAxis\"},{\"attributes\":{\"text\":\"New Tests - United States\",\"text_color\":\"black\",\"text_font_size\":\"12pt\"},\"id\":\"1008\",\"type\":\"Title\"},{\"attributes\":{},\"id\":\"1106\",\"type\":\"LinearScale\"},{\"attributes\":{},\"id\":\"1153\",\"type\":\"UnionRenderers\"},{\"attributes\":{},\"id\":\"1012\",\"type\":\"LinearScale\"},{\"attributes\":{},\"id\":\"1061\",\"type\":\"LinearScale\"},{\"attributes\":{\"axis_label\":\"Vaccinations\",\"formatter\":{\"id\":\"1145\"},\"major_label_policy\":{\"id\":\"1143\"},\"ticker\":{\"id\":\"1115\"}},\"id\":\"1114\",\"type\":\"LinearAxis\"},{\"attributes\":{\"num_minor_ticks\":5,\"tickers\":[{\"id\":\"1155\"},{\"id\":\"1156\"},{\"id\":\"1157\"},{\"id\":\"1158\"},{\"id\":\"1159\"},{\"id\":\"1160\"},{\"id\":\"1161\"},{\"id\":\"1162\"},{\"id\":\"1163\"},{\"id\":\"1164\"},{\"id\":\"1165\"},{\"id\":\"1166\"}]},\"id\":\"1017\",\"type\":\"DatetimeTicker\"},{\"attributes\":{\"data\":{\"date\":{\"__ndarray__\":\"AADATAZsd0IAAICyWGx3QgAAQBirbHdCAAAAfv1sd0IAAMDjT213QgAAgEmibXdCAABAr/Rtd0IAAAAVR253QgAAwHqZbndCAACA4Otud0IAAEBGPm93QgAAAKyQb3dCAADAEeNvd0IAAIB3NXB3QgAAQN2HcHdCAAAAQ9pwd0IAAMCoLHF3QgAAgA5/cXdCAABAdNFxd0IAAADaI3J3QgAAwD92cndCAACApchyd0IAAEALG3N3QgAAAHFtc3dCAADA1r9zd0IAAIA8EnR3QgAAQKJkdHdCAAAACLd0d0IAAMBtCXV3QgAAgNNbdXdCAABAOa51d0IAAACfAHZ3QgAAwARTdndCAACAaqV2d0IAAEDQ93Z3QgAAADZKd3dCAADAm5x3d0IAAIAB73d3QgAAQGdBeHdCAAAAzZN4d0IAAMAy5nh3QgAAgJg4eXdCAABA/op5d0IAAABk3Xl3QgAAwMkvendCAACAL4J6d0IAAECV1Hp3QgAAAPsme3dCAADAYHl7d0IAAIDGy3t3QgAAQCwefHdCAAAAknB8d0IAAMD3wnx3QgAAgF0VfXdCAABAw2d9d0IAAAApun13QgAAwI4MfndCAACA9F5+d0IAAEBasX53QgAAAMADf3dCAADAJVZ/d0IAAICLqH93QgAAQPH6f3dCAAAAV02Ad0IAAMC8n4B3QgAAgCLygHdCAABAiESBd0IAAADuloF3QgAAwFPpgXdCAACAuTuCd0IAAEAfjoJ3QgAAAIXggndCAADA6jKDd0IAAIBQhYN3QgAAQLbXg3dCAAAAHCqEd0IAAMCBfIR3QgAAgOfOhHdCAABATSGFd0IAAACzc4V3QgAAwBjGhXdCAACAfhiGd0IAAEDkaoZ3QgAAAEq9hndCAADArw+Hd0IAAIAVYod3QgAAQHu0h3dCAAAA4QaId0IAAMBGWYh3QgAAgKyriHdCAABAEv6Id0IAAAB4UIl3QgAAwN2iiXdCAACAQ/WJd0IAAECpR4p3QgAAAA+aindCAADAdOyKd0IAAIDaPot3QgAAQECRi3dCAAAApuOLd0IAAMALNox3QgAAgHGIjHdCAABA19qMd0IAAAA9LY13QgAAwKJ/jXdCAACACNKNd0IAAEBuJI53QgAAANR2jndCAADAOcmOd0IAAICfG493QgAAQAVuj3dCAAAAa8CPd0IAAMDQEpB3QgAAgDZlkHdCAABAnLeQd0IAAAACCpF3QgAAwGdckXdCAACAza6Rd0IAAEAzAZJ3QgAAAJlTkndCAADA/qWSd0IAAIBk+JJ3QgAAQMpKk3dCAAAAMJ2Td0IAAMCV75N3QgAAgPtBlHdCAABAYZSUd0IAAADH5pR3QgAAwCw5lXdCAACAkouVd0IAAED43ZV3QgAAAF4wlndCAADAw4KWd0IAAIAp1ZZ3QgAAQI8nl3dCAAAA9XmXd0IAAMBazJd3QgAAgMAemHdCAABAJnGYd0IAAACMw5h3QgAAwPEVmXdCAACAV2iZd0IAAEC9upl3QgAAACMNmndCAADAiF+ad0IAAIDusZp3QgAAQFQEm3dCAAAAulabd0IAAMAfqZt3Qg==\",\"dtype\":\"float64\",\"order\":\"little\",\"shape\":[149]},\"sum_new_tests\":{\"__ndarray__\":\"AAAAAKXqMEEAAAAAGMsvQQAAAADuQjVBAAAAAHXOPUEAAACAHLJBQQAAAABLL0FBAAAAAFpcQEEAAAAATSI6QQAAAACJsTFBAAAAAEQkN0EAAAAA/dM+QQAAAACFA0BBAAAAANKSP0EAAAAAc/c+QQAAAACWHzhBAAAAAJJHMEEAAAAA55kzQQAAAACbgztBAAAAgIQzQEEAAAAA6yw/QQAAAADFOj1BAAAAALOIN0EAAAAAPHwuQQAAAAChtjJBAAAAADAQO0EAAAAAqFs/QQAAAADM8jxBAAAAAMz5O0EAAAAACtg1QQAAAADozyxBAAAAACyBL0EAAAAAfek4QQAAAAAEhzxBAAAAAOpuPUEAAAAAYus7QQAAAABMWDRBAAAAAFRKKUEAAAAA/tAvQQAAAADz0TlBAAAAANACOUEAAAAAs5k1QQAAAAD4jDVBAAAAAO7OMEEAAAAAHEMkQQAAAADsXyhBAAAAAOkVM0EAAAAAv3I2QQAAAADAljVBAAAAAPepNEEAAAAAmCYwQQAAAAA43yRBAAAAADK6L0EAAAAApRU5QQAAAAAqwjlBAAAAAHaYOEEAAAAAzIY2QQAAAABrZTBBAAAAAKxSI0EAAAAAolUuQQAAAAB9mThBAAAAAHmCOkEAAAAA/bA3QQAAAADd1DVBAAAAADlHMEEAAAAAGpYiQQAAAAAUzy1BAAAAAKeCN0EAAAAA6aA4QQAAAABx2TZBAAAAAFdXNUEAAAAAEkcvQQAAAACMqyFBAAAAAHDiLEEAAAAAOdU2QQAAAAAoqThBAAAAAOR8NkEAAAAAg300QQAAAADKMS5BAAAAAJa4IkEAAAAASLgtQQAAAACCUzdBAAAAAAxFOUEAAAAA0Qo2QQAAAACk7zRBAAAAAK53LkEAAAAAZAIjQQAAAAAUti5BAAAAABBdN0EAAAAAQxc4QQAAAABt+jVBAAAAAO57NEEAAAAAGpItQQAAAACSMiFBAAAAAD7jLEEAAAAAK6Y3QQAAAABiYzlBAAAAABQSN0EAAAAAOxY2QQAAAAAIzi5BAAAAAP6gI0EAAAAAuwgwQQAAAAAviDhBAAAAAEV4OUEAAAAAgJA2QQAAAAAgHTZBAAAAAKKyLkEAAAAA3KciQQAAAAAm/C5BAAAAACbiN0EAAAAAtys5QQAAAAB2wTZBAAAAAFh4NUEAAAAA6kouQQAAAAA89yFBAAAAAKpcLkEAAAAAf/Q3QQAAAACXAjhBAAAAAEWZNUEAAAAAegA0QQAAAACehytBAAAAAHDOH0EAAAAAoD0rQQAAAACcpDVBAAAAAEFAN0EAAAAAQOkzQQAAAADK4zFBAAAAANjsKUEAAAAAiHcdQQAAAAA6GSpBAAAAADVENEEAAAAA0Go0QQAAAAA3KTJBAAAAADd/MEEAAAAAtvknQQAAAADAnhtBAAAAADw/KEEAAAAACXwyQQAAAACD8DFBAAAAADCpLkEAAAAArPAtQQAAAABwlCVBAAAAALTXGEEAAAAAUIYlQQAAAABsVjBBAAAAAMzeL0EAAAAAVi8sQQAAAACadClBAAAAADSdIUEAAAAA/N4VQQ==\",\"dtype\":\"float64\",\"order\":\"little\",\"shape\":[149]}},\"selected\":{\"id\":\"1038\"},\"selection_policy\":{\"id\":\"1153\"}},\"id\":\"1037\",\"type\":\"ColumnDataSource\"},{\"attributes\":{},\"id\":\"1120\",\"type\":\"WheelZoomTool\"},{\"attributes\":{\"axis_label\":\"Tests\",\"formatter\":{\"id\":\"1051\"},\"major_label_policy\":{\"id\":\"1049\"},\"ticker\":{\"id\":\"1021\"}},\"id\":\"1020\",\"type\":\"LinearAxis\"},{\"attributes\":{\"axis\":{\"id\":\"1016\"},\"grid_line_color\":null,\"ticker\":null},\"id\":\"1019\",\"type\":\"Grid\"},{\"attributes\":{\"data_source\":{\"id\":\"1131\"},\"glyph\":{\"id\":\"1134\"},\"hover_glyph\":null,\"muted_glyph\":{\"id\":\"1136\"},\"nonselection_glyph\":{\"id\":\"1135\"},\"selection_glyph\":{\"id\":\"1139\"},\"view\":{\"id\":\"1138\"}},\"id\":\"1137\",\"type\":\"GlyphRenderer\"},{\"attributes\":{},\"id\":\"1108\",\"type\":\"LinearScale\"},{\"attributes\":{\"axis\":{\"id\":\"1020\"},\"dimension\":1,\"grid_line_color\":null,\"ticker\":null},\"id\":\"1023\",\"type\":\"Grid\"},{\"attributes\":{\"axis_label\":\"Date\",\"formatter\":{\"id\":\"1142\"},\"major_label_policy\":{\"id\":\"1140\"},\"ticker\":{\"id\":\"1111\"}},\"id\":\"1110\",\"type\":\"DatetimeAxis\"},{\"attributes\":{\"num_minor_ticks\":5,\"tickers\":[{\"id\":\"1178\"},{\"id\":\"1179\"},{\"id\":\"1180\"},{\"id\":\"1181\"},{\"id\":\"1182\"},{\"id\":\"1183\"},{\"id\":\"1184\"},{\"id\":\"1185\"},{\"id\":\"1186\"},{\"id\":\"1187\"},{\"id\":\"1188\"},{\"id\":\"1189\"}]},\"id\":\"1064\",\"type\":\"DatetimeTicker\"},{\"attributes\":{},\"id\":\"1021\",\"type\":\"BasicTicker\"},{\"attributes\":{},\"id\":\"1026\",\"type\":\"WheelZoomTool\"},{\"attributes\":{},\"id\":\"1118\",\"type\":\"SaveTool\"},{\"attributes\":{\"bottom_units\":\"screen\",\"fill_alpha\":0.5,\"fill_color\":\"lightgrey\",\"left_units\":\"screen\",\"level\":\"overlay\",\"line_alpha\":1.0,\"line_color\":\"black\",\"line_dash\":[4,4],\"line_width\":2,\"right_units\":\"screen\",\"syncable\":false,\"top_units\":\"screen\"},\"id\":\"1076\",\"type\":\"BoxAnnotation\"},{\"attributes\":{\"line_color\":\"#30a2da\",\"line_width\":2,\"x\":{\"field\":\"date\"},\"y\":{\"field\":\"sum_new_tests\"}},\"id\":\"1040\",\"type\":\"Line\"},{\"attributes\":{},\"id\":\"1024\",\"type\":\"SaveTool\"},{\"attributes\":{\"overlay\":{\"id\":\"1123\"}},\"id\":\"1121\",\"type\":\"BoxZoomTool\"},{\"attributes\":{\"active_multi\":null,\"tools\":[{\"id\":\"1006\"},{\"id\":\"1024\"},{\"id\":\"1025\"},{\"id\":\"1026\"},{\"id\":\"1027\"},{\"id\":\"1028\"}]},\"id\":\"1030\",\"type\":\"Toolbar\"},{\"attributes\":{\"axis_label\":\"Date\",\"formatter\":{\"id\":\"1095\"},\"major_label_policy\":{\"id\":\"1093\"},\"ticker\":{\"id\":\"1064\"}},\"id\":\"1063\",\"type\":\"DatetimeAxis\"},{\"attributes\":{\"end\":329834.8,\"reset_end\":329834.8,\"reset_start\":-22638.800000000003,\"start\":-22638.800000000003,\"tags\":[[[\"sum_new_cases\",\"sum_new_cases\",null]]]},\"id\":\"1052\",\"type\":\"Range1d\"},{\"attributes\":{},\"id\":\"1068\",\"type\":\"BasicTicker\"},{\"attributes\":{},\"id\":\"1115\",\"type\":\"BasicTicker\"},{\"attributes\":{\"overlay\":{\"id\":\"1029\"}},\"id\":\"1027\",\"type\":\"BoxZoomTool\"},{\"attributes\":{\"axis\":{\"id\":\"1114\"},\"dimension\":1,\"grid_line_color\":null,\"ticker\":null},\"id\":\"1117\",\"type\":\"Grid\"},{\"attributes\":{},\"id\":\"1028\",\"type\":\"ResetTool\"},{\"attributes\":{},\"id\":\"1122\",\"type\":\"ResetTool\"},{\"attributes\":{},\"id\":\"1059\",\"type\":\"LinearScale\"},{\"attributes\":{\"line_alpha\":0.1,\"line_color\":\"#30a2da\",\"line_width\":2,\"x\":{\"field\":\"date\"},\"y\":{\"field\":\"sum_new_tests\"}},\"id\":\"1041\",\"type\":\"Line\"},{\"attributes\":{\"bottom_units\":\"screen\",\"fill_alpha\":0.5,\"fill_color\":\"lightgrey\",\"left_units\":\"screen\",\"level\":\"overlay\",\"line_alpha\":1.0,\"line_color\":\"black\",\"line_dash\":[4,4],\"line_width\":2,\"right_units\":\"screen\",\"syncable\":false,\"top_units\":\"screen\"},\"id\":\"1123\",\"type\":\"BoxAnnotation\"},{\"attributes\":{},\"id\":\"1072\",\"type\":\"PanTool\"}],\"root_ids\":[\"1002\"]},\"title\":\"Bokeh Application\",\"version\":\"2.3.2\"}};\n    var render_items = [{\"docid\":\"ff29b4d7-ac1b-41d9-b2e0-052e881ee753\",\"root_ids\":[\"1002\"],\"roots\":{\"1002\":\"02beb2d9-d1f9-4c74-82c8-f75c46a59163\"}}];\n    root.Bokeh.embed.embed_items_notebook(docs_json, render_items);\n  }\n  if (root.Bokeh !== undefined && root.Bokeh.Panel !== undefined) {\n    embed_document(root);\n  } else {\n    var attempts = 0;\n    var timer = setInterval(function(root) {\n      if (root.Bokeh !== undefined && root.Bokeh.Panel !== undefined) {\n        clearInterval(timer);\n        embed_document(root);\n      } else if (document.readyState == \"complete\") {\n        attempts++;\n        if (attempts > 100) {\n          clearInterval(timer);\n          console.log(\"Bokeh: ERROR: Unable to run BokehJS code because BokehJS library is missing\");\n        }\n      }\n    }, 10, root)\n  }\n})(window);</script>",
      "application/vnd.holoviews_exec.v0+json": "",
      "text/plain": ":Layout\n   .Curve.New_Tests_hyphen_minus_United_States    :Curve   [date]   (sum_new_tests)\n   .Curve.New_Cases_hyphen_minus_United_States    :Curve   [date]   (sum_new_cases)\n   .Curve.Vaccinations_hyphen_minus_United_States :Curve   [date]   (sum_new_vaccinations)"
     },
     "execution_count": 69,
     "metadata": {
      "application/vnd.holoviews_exec.v0+json": {
       "id": "1002"
      }
     },
     "output_type": "execute_result"
    }
   ],
   "source": [
    "\n",
    "x = usa.hvplot.line(\n",
    "    x='date', \n",
    "    y='sum_new_tests', \n",
    "    xlabel='Date', \n",
    "    ylabel='Tests', \n",
    "    label='New Tests - United States', \n",
    "    width=900, \n",
    "    height=400\n",
    ")\n",
    "y = usa.hvplot.line(\n",
    "    x='date', \n",
    "    y='sum_new_cases', \n",
    "    xlabel='Date', \n",
    "    ylabel='Cases', \n",
    "    label='New Cases - United States', \n",
    "    width=900, \n",
    "    height=400\n",
    ")\n",
    "z = usa.hvplot.line(\n",
    "    x='date', \n",
    "    y='sum_new_vaccinations', \n",
    "    xlabel='Date', \n",
    "    ylabel='Vaccinations', \n",
    "    label='Vaccinations - United States', \n",
    "    width=900, \n",
    "    height=400\n",
    ")\n",
    "\n",
    "x+y+z"
   ]
  },
  {
   "cell_type": "markdown",
   "metadata": {},
   "source": [
    "### All - Tests, Cases, Vaccinations"
   ]
  },
  {
   "cell_type": "code",
   "execution_count": null,
   "metadata": {},
   "outputs": [],
   "source": [
    "usa.hvplot(\n",
    "    x='date', \n",
    "    y=['sum_new_tests', 'sum_new_cases', 'sum_new_vaccinations'], \n",
    "    value_label='rate',\n",
    "    height=500, \n",
    "    width=900,\n",
    "    legend='top_right'\n",
    ")\n"
   ]
  },
  {
   "cell_type": "markdown",
   "metadata": {},
   "source": [
    "### Tests - Day by Month"
   ]
  },
  {
   "cell_type": "code",
   "execution_count": null,
   "metadata": {},
   "outputs": [],
   "source": [
    "usa.hvplot.heatmap(\n",
    "    x='month', \n",
    "    y='date.day', \n",
    "    C='sum_new_tests',\n",
    "    title='Tests - Day by Month',\n",
    "    height=500, \n",
    "    width=600, \n",
    "    colorbar=True)"
   ]
  },
  {
   "cell_type": "markdown",
   "metadata": {},
   "source": [
    "### Tests - Day by Month Grouped by Day"
   ]
  },
  {
   "cell_type": "code",
   "execution_count": null,
   "metadata": {},
   "outputs": [],
   "source": [
    "usa.hvplot.heatmap(\n",
    "    x='month', \n",
    "    y='day', \n",
    "    C='sum_new_tests',\n",
    "    title='Tests - Day by Month Grouped by Day',\n",
    "    height=500, \n",
    "    width=600, \n",
    "    colorbar=True)"
   ]
  },
  {
   "cell_type": "markdown",
   "metadata": {},
   "source": [
    "### Vaccinations - Day/Month Grouped by Day"
   ]
  },
  {
   "cell_type": "code",
   "execution_count": null,
   "metadata": {},
   "outputs": [],
   "source": [
    "usa.hvplot.heatmap(\n",
    "    x='month', \n",
    "    y='day', \n",
    "    C='sum_new_vaccinations',\n",
    "    title='Vaccinations - Day/Month Grouped by Day',\n",
    "    height=500, \n",
    "    width=600, \n",
    "    colorbar=True)"
   ]
  },
  {
   "cell_type": "markdown",
   "metadata": {},
   "source": [
    "### Pair Plot"
   ]
  },
  {
   "cell_type": "code",
   "execution_count": null,
   "metadata": {},
   "outputs": [],
   "source": [
    "pairplot = sns.pairplot(usa_tc.dropna())"
   ]
  },
  {
   "cell_type": "markdown",
   "metadata": {},
   "source": [
    "### Tests Histogram"
   ]
  },
  {
   "cell_type": "code",
   "execution_count": null,
   "metadata": {},
   "outputs": [],
   "source": [
    "usa.hvplot.hist(\"sum_new_tests\", by=\"location\", subplots=True, width=600)"
   ]
  },
  {
   "cell_type": "markdown",
   "metadata": {},
   "source": [
    "### Box Plots by Month"
   ]
  },
  {
   "cell_type": "code",
   "execution_count": null,
   "metadata": {},
   "outputs": [],
   "source": [
    "a = usa.hvplot.box(y='sum_new_tests', by='month', height=500, width=500, title='Tests', legend=False)\n",
    "b = usa.hvplot.box(y='sum_new_cases', by='month', height=500, width=500, title='Cases', legend=False)\n",
    "c = usa.hvplot.box(y='sum_new_vaccinations', by='month', height=500, width=500, title='Vaccinations', legend=False)\n",
    "a+b+c"
   ]
  },
  {
   "cell_type": "code",
   "execution_count": null,
   "metadata": {},
   "outputs": [],
   "source": []
  },
  {
   "cell_type": "markdown",
   "metadata": {},
   "source": [
    "### Regression Plot - tests vs cases"
   ]
  },
  {
   "cell_type": "code",
   "execution_count": null,
   "metadata": {},
   "outputs": [],
   "source": [
    "ax = sns.relplot(\n",
    "    x=\"sum_new_tests\", \n",
    "    y=\"sum_new_cases\",\n",
    "    hue=\"sum_new_vaccinations\", \n",
    "    data=usa, \n",
    "    height=8,\n",
    "    legend=True\n",
    ")\n",
    "\n",
    "ax.set(\n",
    "    xlabel='New Tests',\n",
    "    ylabel='New Cases',\n",
    "    title='Tests vs Cases'\n",
    ")\n"
   ]
  },
  {
   "cell_type": "code",
   "execution_count": null,
   "metadata": {},
   "outputs": [],
   "source": []
  },
  {
   "cell_type": "code",
   "execution_count": null,
   "metadata": {},
   "outputs": [],
   "source": [
    "a = mx_tc.hvplot.line(\n",
    "    x='date', \n",
    "    #y='sum_new_cases',\n",
    "    y=\"CMA_4\",\n",
    "    xlabel='Date', \n",
    "    ylabel='Cases', \n",
    "    label='New Tests - Mexico', \n",
    "    width=900, \n",
    "    height=400\n",
    ")\n",
    "\n",
    "b = mx_tc.hvplot.line(\n",
    "    x='date', \n",
    "    y='sum_new_cases',\n",
    "    xlabel='Date', \n",
    "    ylabel='Cases', \n",
    "    label='New Tests - Mexico', \n",
    "    width=900, \n",
    "    height=400\n",
    ")\n",
    "\n",
    "a*b"
   ]
  },
  {
   "cell_type": "code",
   "execution_count": null,
   "metadata": {},
   "outputs": [],
   "source": []
  },
  {
   "cell_type": "code",
   "execution_count": null,
   "metadata": {},
   "outputs": [],
   "source": []
  },
  {
   "cell_type": "code",
   "execution_count": null,
   "metadata": {},
   "outputs": [],
   "source": []
  },
  {
   "cell_type": "code",
   "execution_count": null,
   "metadata": {},
   "outputs": [],
   "source": []
  },
  {
   "cell_type": "code",
   "execution_count": null,
   "metadata": {},
   "outputs": [],
   "source": []
  },
  {
   "cell_type": "code",
   "execution_count": null,
   "metadata": {},
   "outputs": [],
   "source": []
  },
  {
   "cell_type": "code",
   "execution_count": null,
   "metadata": {},
   "outputs": [],
   "source": []
  },
  {
   "cell_type": "code",
   "execution_count": null,
   "metadata": {},
   "outputs": [],
   "source": []
  },
  {
   "cell_type": "code",
   "execution_count": null,
   "metadata": {},
   "outputs": [],
   "source": []
  },
  {
   "cell_type": "code",
   "execution_count": null,
   "metadata": {},
   "outputs": [],
   "source": []
  }
 ],
 "metadata": {
  "kernelspec": {
   "display_name": "Python 3",
   "language": "python",
   "name": "python3"
  },
  "language_info": {
   "codemirror_mode": {
    "name": "ipython",
    "version": 3
   },
   "file_extension": ".py",
   "mimetype": "text/x-python",
   "name": "python",
   "nbconvert_exporter": "python",
   "pygments_lexer": "ipython3",
   "version": "3.8.10"
  }
 },
 "nbformat": 4,
 "nbformat_minor": 1
}